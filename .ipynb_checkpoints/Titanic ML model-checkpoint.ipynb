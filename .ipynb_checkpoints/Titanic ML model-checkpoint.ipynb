{
 "cells": [
  {
   "cell_type": "markdown",
   "metadata": {},
   "source": [
    "# Exploring ML models to predict survival on the Titanic\n",
    "\n",
    "Data science compentition of the website Kaggle to produce the best model to predict survival on the titanic. \n",
    "\n",
    "Three datasets availible\n",
    "- Train set: with column indicating survivors\n",
    "- Test set:  without column indicating survivors\n",
    "- Example submission set: indicate the submission layout of the csv"
   ]
  },
  {
   "cell_type": "code",
   "execution_count": 1,
   "metadata": {},
   "outputs": [],
   "source": [
    "# import the modules and load in the data\n",
    "\n",
    "import pandas as pd\n",
    "import matplotlib.pyplot as plt\n",
    "import numpy as np\n",
    "\n",
    "%matplotlib inline\n",
    "\n",
    "Train = pd.read_csv('train.csv')\n",
    "Test  = pd.read_csv('test.csv')\n",
    "submission_example = pd.read_csv('gender_submission.csv')"
   ]
  },
  {
   "cell_type": "code",
   "execution_count": 2,
   "metadata": {},
   "outputs": [
    {
     "data": {
      "text/html": [
       "<div>\n",
       "<style scoped>\n",
       "    .dataframe tbody tr th:only-of-type {\n",
       "        vertical-align: middle;\n",
       "    }\n",
       "\n",
       "    .dataframe tbody tr th {\n",
       "        vertical-align: top;\n",
       "    }\n",
       "\n",
       "    .dataframe thead th {\n",
       "        text-align: right;\n",
       "    }\n",
       "</style>\n",
       "<table border=\"1\" class=\"dataframe\">\n",
       "  <thead>\n",
       "    <tr style=\"text-align: right;\">\n",
       "      <th></th>\n",
       "      <th>PassengerId</th>\n",
       "      <th>Survived</th>\n",
       "      <th>Pclass</th>\n",
       "      <th>Name</th>\n",
       "      <th>Sex</th>\n",
       "      <th>Age</th>\n",
       "      <th>SibSp</th>\n",
       "      <th>Parch</th>\n",
       "      <th>Ticket</th>\n",
       "      <th>Fare</th>\n",
       "      <th>Cabin</th>\n",
       "      <th>Embarked</th>\n",
       "    </tr>\n",
       "  </thead>\n",
       "  <tbody>\n",
       "    <tr>\n",
       "      <td>0</td>\n",
       "      <td>1</td>\n",
       "      <td>0</td>\n",
       "      <td>3</td>\n",
       "      <td>Braund, Mr. Owen Harris</td>\n",
       "      <td>male</td>\n",
       "      <td>22.0</td>\n",
       "      <td>1</td>\n",
       "      <td>0</td>\n",
       "      <td>A/5 21171</td>\n",
       "      <td>7.2500</td>\n",
       "      <td>NaN</td>\n",
       "      <td>S</td>\n",
       "    </tr>\n",
       "    <tr>\n",
       "      <td>1</td>\n",
       "      <td>2</td>\n",
       "      <td>1</td>\n",
       "      <td>1</td>\n",
       "      <td>Cumings, Mrs. John Bradley (Florence Briggs Th...</td>\n",
       "      <td>female</td>\n",
       "      <td>38.0</td>\n",
       "      <td>1</td>\n",
       "      <td>0</td>\n",
       "      <td>PC 17599</td>\n",
       "      <td>71.2833</td>\n",
       "      <td>C85</td>\n",
       "      <td>C</td>\n",
       "    </tr>\n",
       "    <tr>\n",
       "      <td>2</td>\n",
       "      <td>3</td>\n",
       "      <td>1</td>\n",
       "      <td>3</td>\n",
       "      <td>Heikkinen, Miss. Laina</td>\n",
       "      <td>female</td>\n",
       "      <td>26.0</td>\n",
       "      <td>0</td>\n",
       "      <td>0</td>\n",
       "      <td>STON/O2. 3101282</td>\n",
       "      <td>7.9250</td>\n",
       "      <td>NaN</td>\n",
       "      <td>S</td>\n",
       "    </tr>\n",
       "    <tr>\n",
       "      <td>3</td>\n",
       "      <td>4</td>\n",
       "      <td>1</td>\n",
       "      <td>1</td>\n",
       "      <td>Futrelle, Mrs. Jacques Heath (Lily May Peel)</td>\n",
       "      <td>female</td>\n",
       "      <td>35.0</td>\n",
       "      <td>1</td>\n",
       "      <td>0</td>\n",
       "      <td>113803</td>\n",
       "      <td>53.1000</td>\n",
       "      <td>C123</td>\n",
       "      <td>S</td>\n",
       "    </tr>\n",
       "    <tr>\n",
       "      <td>4</td>\n",
       "      <td>5</td>\n",
       "      <td>0</td>\n",
       "      <td>3</td>\n",
       "      <td>Allen, Mr. William Henry</td>\n",
       "      <td>male</td>\n",
       "      <td>35.0</td>\n",
       "      <td>0</td>\n",
       "      <td>0</td>\n",
       "      <td>373450</td>\n",
       "      <td>8.0500</td>\n",
       "      <td>NaN</td>\n",
       "      <td>S</td>\n",
       "    </tr>\n",
       "  </tbody>\n",
       "</table>\n",
       "</div>"
      ],
      "text/plain": [
       "   PassengerId  Survived  Pclass  \\\n",
       "0            1         0       3   \n",
       "1            2         1       1   \n",
       "2            3         1       3   \n",
       "3            4         1       1   \n",
       "4            5         0       3   \n",
       "\n",
       "                                                Name     Sex   Age  SibSp  \\\n",
       "0                            Braund, Mr. Owen Harris    male  22.0      1   \n",
       "1  Cumings, Mrs. John Bradley (Florence Briggs Th...  female  38.0      1   \n",
       "2                             Heikkinen, Miss. Laina  female  26.0      0   \n",
       "3       Futrelle, Mrs. Jacques Heath (Lily May Peel)  female  35.0      1   \n",
       "4                           Allen, Mr. William Henry    male  35.0      0   \n",
       "\n",
       "   Parch            Ticket     Fare Cabin Embarked  \n",
       "0      0         A/5 21171   7.2500   NaN        S  \n",
       "1      0          PC 17599  71.2833   C85        C  \n",
       "2      0  STON/O2. 3101282   7.9250   NaN        S  \n",
       "3      0            113803  53.1000  C123        S  \n",
       "4      0            373450   8.0500   NaN        S  "
      ]
     },
     "execution_count": 2,
     "metadata": {},
     "output_type": "execute_result"
    }
   ],
   "source": [
    "# Basic data exploration of Train and test. We'll review the example at the end\n",
    "\n",
    "Train.head(5)"
   ]
  },
  {
   "cell_type": "code",
   "execution_count": 3,
   "metadata": {},
   "outputs": [
    {
     "data": {
      "text/html": [
       "<div>\n",
       "<style scoped>\n",
       "    .dataframe tbody tr th:only-of-type {\n",
       "        vertical-align: middle;\n",
       "    }\n",
       "\n",
       "    .dataframe tbody tr th {\n",
       "        vertical-align: top;\n",
       "    }\n",
       "\n",
       "    .dataframe thead th {\n",
       "        text-align: right;\n",
       "    }\n",
       "</style>\n",
       "<table border=\"1\" class=\"dataframe\">\n",
       "  <thead>\n",
       "    <tr style=\"text-align: right;\">\n",
       "      <th></th>\n",
       "      <th>PassengerId</th>\n",
       "      <th>Pclass</th>\n",
       "      <th>Name</th>\n",
       "      <th>Sex</th>\n",
       "      <th>Age</th>\n",
       "      <th>SibSp</th>\n",
       "      <th>Parch</th>\n",
       "      <th>Ticket</th>\n",
       "      <th>Fare</th>\n",
       "      <th>Cabin</th>\n",
       "      <th>Embarked</th>\n",
       "    </tr>\n",
       "  </thead>\n",
       "  <tbody>\n",
       "    <tr>\n",
       "      <td>0</td>\n",
       "      <td>892</td>\n",
       "      <td>3</td>\n",
       "      <td>Kelly, Mr. James</td>\n",
       "      <td>male</td>\n",
       "      <td>34.5</td>\n",
       "      <td>0</td>\n",
       "      <td>0</td>\n",
       "      <td>330911</td>\n",
       "      <td>7.8292</td>\n",
       "      <td>NaN</td>\n",
       "      <td>Q</td>\n",
       "    </tr>\n",
       "    <tr>\n",
       "      <td>1</td>\n",
       "      <td>893</td>\n",
       "      <td>3</td>\n",
       "      <td>Wilkes, Mrs. James (Ellen Needs)</td>\n",
       "      <td>female</td>\n",
       "      <td>47.0</td>\n",
       "      <td>1</td>\n",
       "      <td>0</td>\n",
       "      <td>363272</td>\n",
       "      <td>7.0000</td>\n",
       "      <td>NaN</td>\n",
       "      <td>S</td>\n",
       "    </tr>\n",
       "    <tr>\n",
       "      <td>2</td>\n",
       "      <td>894</td>\n",
       "      <td>2</td>\n",
       "      <td>Myles, Mr. Thomas Francis</td>\n",
       "      <td>male</td>\n",
       "      <td>62.0</td>\n",
       "      <td>0</td>\n",
       "      <td>0</td>\n",
       "      <td>240276</td>\n",
       "      <td>9.6875</td>\n",
       "      <td>NaN</td>\n",
       "      <td>Q</td>\n",
       "    </tr>\n",
       "    <tr>\n",
       "      <td>3</td>\n",
       "      <td>895</td>\n",
       "      <td>3</td>\n",
       "      <td>Wirz, Mr. Albert</td>\n",
       "      <td>male</td>\n",
       "      <td>27.0</td>\n",
       "      <td>0</td>\n",
       "      <td>0</td>\n",
       "      <td>315154</td>\n",
       "      <td>8.6625</td>\n",
       "      <td>NaN</td>\n",
       "      <td>S</td>\n",
       "    </tr>\n",
       "    <tr>\n",
       "      <td>4</td>\n",
       "      <td>896</td>\n",
       "      <td>3</td>\n",
       "      <td>Hirvonen, Mrs. Alexander (Helga E Lindqvist)</td>\n",
       "      <td>female</td>\n",
       "      <td>22.0</td>\n",
       "      <td>1</td>\n",
       "      <td>1</td>\n",
       "      <td>3101298</td>\n",
       "      <td>12.2875</td>\n",
       "      <td>NaN</td>\n",
       "      <td>S</td>\n",
       "    </tr>\n",
       "  </tbody>\n",
       "</table>\n",
       "</div>"
      ],
      "text/plain": [
       "   PassengerId  Pclass                                          Name     Sex  \\\n",
       "0          892       3                              Kelly, Mr. James    male   \n",
       "1          893       3              Wilkes, Mrs. James (Ellen Needs)  female   \n",
       "2          894       2                     Myles, Mr. Thomas Francis    male   \n",
       "3          895       3                              Wirz, Mr. Albert    male   \n",
       "4          896       3  Hirvonen, Mrs. Alexander (Helga E Lindqvist)  female   \n",
       "\n",
       "    Age  SibSp  Parch   Ticket     Fare Cabin Embarked  \n",
       "0  34.5      0      0   330911   7.8292   NaN        Q  \n",
       "1  47.0      1      0   363272   7.0000   NaN        S  \n",
       "2  62.0      0      0   240276   9.6875   NaN        Q  \n",
       "3  27.0      0      0   315154   8.6625   NaN        S  \n",
       "4  22.0      1      1  3101298  12.2875   NaN        S  "
      ]
     },
     "execution_count": 3,
     "metadata": {},
     "output_type": "execute_result"
    }
   ],
   "source": [
    "Test.head(5)"
   ]
  },
  {
   "cell_type": "markdown",
   "metadata": {},
   "source": [
    "<b>As expected the test dataset lack the 'Survived' column</b>"
   ]
  },
  {
   "cell_type": "code",
   "execution_count": 4,
   "metadata": {},
   "outputs": [
    {
     "name": "stdout",
     "output_type": "stream",
     "text": [
      "<class 'pandas.core.frame.DataFrame'>\n",
      "RangeIndex: 891 entries, 0 to 890\n",
      "Data columns (total 12 columns):\n",
      "PassengerId    891 non-null int64\n",
      "Survived       891 non-null int64\n",
      "Pclass         891 non-null int64\n",
      "Name           891 non-null object\n",
      "Sex            891 non-null object\n",
      "Age            714 non-null float64\n",
      "SibSp          891 non-null int64\n",
      "Parch          891 non-null int64\n",
      "Ticket         891 non-null object\n",
      "Fare           891 non-null float64\n",
      "Cabin          204 non-null object\n",
      "Embarked       889 non-null object\n",
      "dtypes: float64(2), int64(5), object(5)\n",
      "memory usage: 83.7+ KB\n"
     ]
    }
   ],
   "source": [
    "Train.info()"
   ]
  },
  {
   "cell_type": "code",
   "execution_count": 5,
   "metadata": {},
   "outputs": [
    {
     "name": "stdout",
     "output_type": "stream",
     "text": [
      "<class 'pandas.core.frame.DataFrame'>\n",
      "RangeIndex: 418 entries, 0 to 417\n",
      "Data columns (total 11 columns):\n",
      "PassengerId    418 non-null int64\n",
      "Pclass         418 non-null int64\n",
      "Name           418 non-null object\n",
      "Sex            418 non-null object\n",
      "Age            332 non-null float64\n",
      "SibSp          418 non-null int64\n",
      "Parch          418 non-null int64\n",
      "Ticket         418 non-null object\n",
      "Fare           417 non-null float64\n",
      "Cabin          91 non-null object\n",
      "Embarked       418 non-null object\n",
      "dtypes: float64(2), int64(4), object(5)\n",
      "memory usage: 36.0+ KB\n"
     ]
    }
   ],
   "source": [
    "Test.info()"
   ]
  },
  {
   "cell_type": "code",
   "execution_count": 6,
   "metadata": {},
   "outputs": [
    {
     "data": {
      "text/html": [
       "<div>\n",
       "<style scoped>\n",
       "    .dataframe tbody tr th:only-of-type {\n",
       "        vertical-align: middle;\n",
       "    }\n",
       "\n",
       "    .dataframe tbody tr th {\n",
       "        vertical-align: top;\n",
       "    }\n",
       "\n",
       "    .dataframe thead th {\n",
       "        text-align: right;\n",
       "    }\n",
       "</style>\n",
       "<table border=\"1\" class=\"dataframe\">\n",
       "  <thead>\n",
       "    <tr style=\"text-align: right;\">\n",
       "      <th></th>\n",
       "      <th>PassengerId</th>\n",
       "      <th>Survived</th>\n",
       "      <th>Pclass</th>\n",
       "      <th>Age</th>\n",
       "      <th>SibSp</th>\n",
       "      <th>Parch</th>\n",
       "      <th>Fare</th>\n",
       "    </tr>\n",
       "  </thead>\n",
       "  <tbody>\n",
       "    <tr>\n",
       "      <td>count</td>\n",
       "      <td>891.000000</td>\n",
       "      <td>891.000000</td>\n",
       "      <td>891.000000</td>\n",
       "      <td>714.000000</td>\n",
       "      <td>891.000000</td>\n",
       "      <td>891.000000</td>\n",
       "      <td>891.000000</td>\n",
       "    </tr>\n",
       "    <tr>\n",
       "      <td>mean</td>\n",
       "      <td>446.000000</td>\n",
       "      <td>0.383838</td>\n",
       "      <td>2.308642</td>\n",
       "      <td>29.699118</td>\n",
       "      <td>0.523008</td>\n",
       "      <td>0.381594</td>\n",
       "      <td>32.204208</td>\n",
       "    </tr>\n",
       "    <tr>\n",
       "      <td>std</td>\n",
       "      <td>257.353842</td>\n",
       "      <td>0.486592</td>\n",
       "      <td>0.836071</td>\n",
       "      <td>14.526497</td>\n",
       "      <td>1.102743</td>\n",
       "      <td>0.806057</td>\n",
       "      <td>49.693429</td>\n",
       "    </tr>\n",
       "    <tr>\n",
       "      <td>min</td>\n",
       "      <td>1.000000</td>\n",
       "      <td>0.000000</td>\n",
       "      <td>1.000000</td>\n",
       "      <td>0.420000</td>\n",
       "      <td>0.000000</td>\n",
       "      <td>0.000000</td>\n",
       "      <td>0.000000</td>\n",
       "    </tr>\n",
       "    <tr>\n",
       "      <td>25%</td>\n",
       "      <td>223.500000</td>\n",
       "      <td>0.000000</td>\n",
       "      <td>2.000000</td>\n",
       "      <td>20.125000</td>\n",
       "      <td>0.000000</td>\n",
       "      <td>0.000000</td>\n",
       "      <td>7.910400</td>\n",
       "    </tr>\n",
       "    <tr>\n",
       "      <td>50%</td>\n",
       "      <td>446.000000</td>\n",
       "      <td>0.000000</td>\n",
       "      <td>3.000000</td>\n",
       "      <td>28.000000</td>\n",
       "      <td>0.000000</td>\n",
       "      <td>0.000000</td>\n",
       "      <td>14.454200</td>\n",
       "    </tr>\n",
       "    <tr>\n",
       "      <td>75%</td>\n",
       "      <td>668.500000</td>\n",
       "      <td>1.000000</td>\n",
       "      <td>3.000000</td>\n",
       "      <td>38.000000</td>\n",
       "      <td>1.000000</td>\n",
       "      <td>0.000000</td>\n",
       "      <td>31.000000</td>\n",
       "    </tr>\n",
       "    <tr>\n",
       "      <td>max</td>\n",
       "      <td>891.000000</td>\n",
       "      <td>1.000000</td>\n",
       "      <td>3.000000</td>\n",
       "      <td>80.000000</td>\n",
       "      <td>8.000000</td>\n",
       "      <td>6.000000</td>\n",
       "      <td>512.329200</td>\n",
       "    </tr>\n",
       "  </tbody>\n",
       "</table>\n",
       "</div>"
      ],
      "text/plain": [
       "       PassengerId    Survived      Pclass         Age       SibSp  \\\n",
       "count   891.000000  891.000000  891.000000  714.000000  891.000000   \n",
       "mean    446.000000    0.383838    2.308642   29.699118    0.523008   \n",
       "std     257.353842    0.486592    0.836071   14.526497    1.102743   \n",
       "min       1.000000    0.000000    1.000000    0.420000    0.000000   \n",
       "25%     223.500000    0.000000    2.000000   20.125000    0.000000   \n",
       "50%     446.000000    0.000000    3.000000   28.000000    0.000000   \n",
       "75%     668.500000    1.000000    3.000000   38.000000    1.000000   \n",
       "max     891.000000    1.000000    3.000000   80.000000    8.000000   \n",
       "\n",
       "            Parch        Fare  \n",
       "count  891.000000  891.000000  \n",
       "mean     0.381594   32.204208  \n",
       "std      0.806057   49.693429  \n",
       "min      0.000000    0.000000  \n",
       "25%      0.000000    7.910400  \n",
       "50%      0.000000   14.454200  \n",
       "75%      0.000000   31.000000  \n",
       "max      6.000000  512.329200  "
      ]
     },
     "execution_count": 6,
     "metadata": {},
     "output_type": "execute_result"
    }
   ],
   "source": [
    "Train.describe()"
   ]
  },
  {
   "cell_type": "code",
   "execution_count": 7,
   "metadata": {},
   "outputs": [
    {
     "data": {
      "text/html": [
       "<div>\n",
       "<style scoped>\n",
       "    .dataframe tbody tr th:only-of-type {\n",
       "        vertical-align: middle;\n",
       "    }\n",
       "\n",
       "    .dataframe tbody tr th {\n",
       "        vertical-align: top;\n",
       "    }\n",
       "\n",
       "    .dataframe thead th {\n",
       "        text-align: right;\n",
       "    }\n",
       "</style>\n",
       "<table border=\"1\" class=\"dataframe\">\n",
       "  <thead>\n",
       "    <tr style=\"text-align: right;\">\n",
       "      <th></th>\n",
       "      <th>Name</th>\n",
       "      <th>Sex</th>\n",
       "      <th>Ticket</th>\n",
       "      <th>Cabin</th>\n",
       "      <th>Embarked</th>\n",
       "    </tr>\n",
       "  </thead>\n",
       "  <tbody>\n",
       "    <tr>\n",
       "      <td>count</td>\n",
       "      <td>891</td>\n",
       "      <td>891</td>\n",
       "      <td>891</td>\n",
       "      <td>204</td>\n",
       "      <td>889</td>\n",
       "    </tr>\n",
       "    <tr>\n",
       "      <td>unique</td>\n",
       "      <td>891</td>\n",
       "      <td>2</td>\n",
       "      <td>681</td>\n",
       "      <td>147</td>\n",
       "      <td>3</td>\n",
       "    </tr>\n",
       "    <tr>\n",
       "      <td>top</td>\n",
       "      <td>Lindahl, Miss. Agda Thorilda Viktoria</td>\n",
       "      <td>male</td>\n",
       "      <td>1601</td>\n",
       "      <td>G6</td>\n",
       "      <td>S</td>\n",
       "    </tr>\n",
       "    <tr>\n",
       "      <td>freq</td>\n",
       "      <td>1</td>\n",
       "      <td>577</td>\n",
       "      <td>7</td>\n",
       "      <td>4</td>\n",
       "      <td>644</td>\n",
       "    </tr>\n",
       "  </tbody>\n",
       "</table>\n",
       "</div>"
      ],
      "text/plain": [
       "                                         Name   Sex Ticket Cabin Embarked\n",
       "count                                     891   891    891   204      889\n",
       "unique                                    891     2    681   147        3\n",
       "top     Lindahl, Miss. Agda Thorilda Viktoria  male   1601    G6        S\n",
       "freq                                        1   577      7     4      644"
      ]
     },
     "execution_count": 7,
     "metadata": {},
     "output_type": "execute_result"
    }
   ],
   "source": [
    "Train.describe(include=['O'])"
   ]
  },
  {
   "cell_type": "markdown",
   "metadata": {},
   "source": [
    "# Initial observations\n",
    "\n",
    "Train set:\n",
    "- Name & PassengrId are unique values and will not be useful for the model; columns can be dropped.\n",
    "- Ticket number is mainly consists of unique values and will not be of use for modeling. \n",
    "- Several Nan values in Age. Imputing these rows will be probably the best options. \n",
    "- Cabin would have been an interesting column, since your location on the ship would a reasonable estimate of how easy you could reach the life boats. Alas cabin is known for only ~23% of passenger and imputing these values is not a good option when so many values are missing. I'll drop the column\n",
    "- Embarked column is missing 2 values, we'll impute these with most frequent value\n",
    "\n",
    "Test set:\n",
    "- missing values in the Age column. Need to be imputing.\n",
    "- Cabin column again has many empty values, but since we'll not be using this column in the analysis, this will not be a concern.\n"
   ]
  },
  {
   "cell_type": "markdown",
   "metadata": {},
   "source": [
    "### Exploring different parameters in relation to \"Survived\""
   ]
  },
  {
   "cell_type": "code",
   "execution_count": 8,
   "metadata": {},
   "outputs": [
    {
     "data": {
      "text/plain": [
       "0    0.616162\n",
       "1    0.383838\n",
       "Name: Survived, dtype: float64"
      ]
     },
     "execution_count": 8,
     "metadata": {},
     "output_type": "execute_result"
    }
   ],
   "source": [
    "#Survived\n",
    "\n",
    "Train.Survived.value_counts(normalize=True)"
   ]
  },
  {
   "cell_type": "code",
   "execution_count": 9,
   "metadata": {},
   "outputs": [
    {
     "data": {
      "text/plain": [
       "<matplotlib.axes._subplots.AxesSubplot at 0x1bf793a4708>"
      ]
     },
     "execution_count": 9,
     "metadata": {},
     "output_type": "execute_result"
    },
    {
     "data": {
      "image/png": "[encoded data removed]",
      "text/plain": [
       "<Figure size 432x288 with 1 Axes>"
      ]
     },
     "metadata": {
      "needs_background": "light"
     },
     "output_type": "display_data"
    }
   ],
   "source": [
    "# Pclass vs Survived\n",
    "\n",
    "pd.pivot_table(Train, index='Pclass', values='Survived').sort_values(by='Survived').plot(kind='barh')"
   ]
  },
  {
   "cell_type": "code",
   "execution_count": 10,
   "metadata": {},
   "outputs": [
    {
     "data": {
      "text/plain": [
       "<matplotlib.axes._subplots.AxesSubplot at 0x1bf796d7cc8>"
      ]
     },
     "execution_count": 10,
     "metadata": {},
     "output_type": "execute_result"
    },
    {
     "data": {
      "image/png": "[encoded data removed]",
      "text/plain": [
       "<Figure size 432x288 with 1 Axes>"
      ]
     },
     "metadata": {
      "needs_background": "light"
     },
     "output_type": "display_data"
    }
   ],
   "source": [
    "# Sex vs Survived\n",
    "\n",
    "pd.pivot_table(Train, index='Sex', values='Survived').sort_values(by='Survived').plot(kind='barh')"
   ]
  },
  {
   "cell_type": "code",
   "execution_count": 11,
   "metadata": {},
   "outputs": [
    {
     "data": {
      "text/plain": [
       "<matplotlib.axes._subplots.AxesSubplot at 0x1bf796de988>"
      ]
     },
     "execution_count": 11,
     "metadata": {},
     "output_type": "execute_result"
    },
    {
     "data": {
      "image/png": "[encoded data removed]",
      "text/plain": [
       "<Figure size 432x288 with 1 Axes>"
      ]
     },
     "metadata": {
      "needs_background": "light"
     },
     "output_type": "display_data"
    }
   ],
   "source": [
    "# Embarked vs Survived\n",
    "\n",
    "pd.pivot_table(Train, index='Embarked', values='Survived').sort_values(by='Survived').plot(kind='barh')"
   ]
  },
  {
   "cell_type": "code",
   "execution_count": 12,
   "metadata": {},
   "outputs": [
    {
     "name": "stderr",
     "output_type": "stream",
     "text": [
      "C:\\ProgramData\\Anaconda3\\lib\\site-packages\\numpy\\lib\\histograms.py:824: RuntimeWarning: invalid value encountered in greater_equal\n",
      "  keep = (tmp_a >= first_edge)\n",
      "C:\\ProgramData\\Anaconda3\\lib\\site-packages\\numpy\\lib\\histograms.py:825: RuntimeWarning: invalid value encountered in less_equal\n",
      "  keep &= (tmp_a <= last_edge)\n"
     ]
    },
    {
     "data": {
      "image/png": "[encoded data removed]",
      "text/plain": [
       "<Figure size 864x432 with 2 Axes>"
      ]
     },
     "metadata": {
      "needs_background": "light"
     },
     "output_type": "display_data"
    }
   ],
   "source": [
    "# Age vs Survived\n",
    "\n",
    "Surv_age = Train[Train['Survived']==1]['Age']\n",
    "No_Surv_age = Train[Train['Survived']==0]['Age']\n",
    "\n",
    "fig, (ax1, ax2) = plt.subplots(1,2, figsize=[12,6], sharey=True)\n",
    "ax1.hist(Surv_age)\n",
    "ax2.hist(No_Surv_age)\n",
    "ax1.set_title('Age of survived passengers')\n",
    "ax2.set_title('Age of non-survived passengers')\n",
    "ax1.set_ylabel('count')\n",
    "ax1.set_xlabel('Age')\n",
    "ax2.set_ylabel('count')\n",
    "ax2.set_xlabel('Age')\n",
    "plt.show()"
   ]
  },
  {
   "cell_type": "code",
   "execution_count": 13,
   "metadata": {},
   "outputs": [
    {
     "data": {
      "image/png": "[encoded data removed]",
      "text/plain": [
       "<Figure size 864x432 with 2 Axes>"
      ]
     },
     "metadata": {
      "needs_background": "light"
     },
     "output_type": "display_data"
    }
   ],
   "source": [
    "#SibSp vs Survived\n",
    "\n",
    "Surv_age = Train[Train['Survived']==1]['SibSp']\n",
    "No_Surv_age = Train[Train['Survived']==0]['SibSp']\n",
    "\n",
    "fig, (ax1, ax2) = plt.subplots(1,2, figsize=[12,6], sharey=True)\n",
    "ax1.hist(Surv_age)\n",
    "ax2.hist(No_Surv_age)\n",
    "ax1.set_title('siblings / spouses of survived passengers')\n",
    "ax2.set_title('siblings / spouses of non-survived passengers')\n",
    "ax1.set_ylabel('count')\n",
    "ax1.set_xlabel('# siblings / spouses')\n",
    "ax2.set_ylabel('count')\n",
    "ax2.set_xlabel('# siblings / spouses')\n",
    "plt.show()"
   ]
  },
  {
   "cell_type": "code",
   "execution_count": 14,
   "metadata": {},
   "outputs": [
    {
     "data": {
      "image/png": "[encoded data removed]",
      "text/plain": [
       "<Figure size 864x432 with 2 Axes>"
      ]
     },
     "metadata": {
      "needs_background": "light"
     },
     "output_type": "display_data"
    }
   ],
   "source": [
    "#Parch vs Survived\n",
    "\n",
    "Surv_age = Train[Train['Survived']==1]['Parch']\n",
    "No_Surv_age = Train[Train['Survived']==0]['Parch']\n",
    "\n",
    "fig, (ax1, ax2) = plt.subplots(1,2, figsize=[12,6], sharey=True)\n",
    "ax1.hist(Surv_age)\n",
    "ax2.hist(No_Surv_age)\n",
    "ax1.set_title('parents / children of survived passengers')\n",
    "ax2.set_title('parents / children of non-survived passengers')\n",
    "ax1.set_ylabel('count')\n",
    "ax1.set_xlabel('# parents / children')\n",
    "ax2.set_ylabel('count')\n",
    "ax2.set_xlabel('# parents / children')\n",
    "plt.show()"
   ]
  },
  {
   "cell_type": "code",
   "execution_count": 15,
   "metadata": {},
   "outputs": [
    {
     "data": {
      "image/png": "[encoded data removed]",
      "text/plain": [
       "<Figure size 864x432 with 2 Axes>"
      ]
     },
     "metadata": {
      "needs_background": "light"
     },
     "output_type": "display_data"
    }
   ],
   "source": [
    "#Fare vs Survived\n",
    "\n",
    "Surv_age = Train[Train['Survived']==1]['Fare']\n",
    "No_Surv_age = Train[Train['Survived']==0]['Fare']\n",
    "\n",
    "fig, (ax1, ax2) = plt.subplots(1,2, figsize=[12,6], sharey=True)\n",
    "ax1.hist(Surv_age, bins =range(0,500,10))\n",
    "ax2.hist(No_Surv_age,bins =range(0,500,10))\n",
    "ax1.set_title('Fare of survived passengers')\n",
    "ax2.set_title('Fare of non-survived passengers')\n",
    "ax1.set_ylabel('count')\n",
    "ax1.set_xlabel('Fare')\n",
    "ax2.set_ylabel('count')\n",
    "ax2.set_xlabel('Fare')\n",
    "plt.show()"
   ]
  },
  {
   "cell_type": "markdown",
   "metadata": {},
   "source": [
    "# Parameter relation with survived\n",
    "\n",
    "~61% did not survive\n",
    "\n",
    "<b>Age:</b>       Pclass has a clear relation with survived where the higher the class, the more likely someone survived.<br> \n",
    "<b>Sex:</b>       Gender has the strongest relation with majority of women surviving<br> \n",
    "<b>Age:</b>       On first glance not really a strong determiner, but childeren and elderly had a better chance of surviving<br> \n",
    "<b>SibSp:</b>     Weak relation, but in general those without siblings/spouse had a worse chance<br> \n",
    "<b>Parch:</b>     Weak relation, but in general those without parents/childeren had a worse chance<br> \n",
    "<b>Fare:</b>      lower fare is higher chance of dying. Strongly related to Class<br> \n",
    "<b>Embarked:</b>  Those embarked at port \"C\" had a better chance of surviving<br> \n",
    "<br> \n",
    "<b>Best chance to survive is:</b>\n",
    "- Rich women in first class that embarked in port C and has familiy on board"
   ]
  },
  {
   "cell_type": "markdown",
   "metadata": {},
   "source": [
    "# Transforming the data to suit ML\n",
    "\n",
    "Missing values:\n",
    "- Age is missing ~20% of its values. Will impute with the median\n",
    "- Embarked is missing 2 values. Will replace with most common values, which we already known as \"S\" \n",
    "\n",
    "Categorical columns:\n",
    "- Sex will be labeled with 0 or 1 \n",
    "- Onehot Encoding will be applyed to the Embarked column\n",
    "\n",
    "All transformation will be applied to both Train and test, with the exeption of imputing Embarked in the test. Test has no missing values in \"Embarked\"  "
   ]
  },
  {
   "cell_type": "code",
   "execution_count": 16,
   "metadata": {},
   "outputs": [],
   "source": [
    "#Selection of relevant columns\n",
    "\n",
    "Y = Train.Survived.copy()\n",
    "X = Train[['Pclass', 'Sex', 'Age', 'SibSp', 'Parch','Fare','Embarked']].copy()\n",
    "X_valid = Test[['Pclass', 'Sex', 'Age', 'SibSp', 'Parch','Fare','Embarked']].copy()\n",
    "\n",
    "# Transform Sex column\n",
    "X.Sex = X.Sex.map({'female': 0, 'male':1})\n",
    "X_valid.Sex = X_valid.Sex.map({'female': 0, 'male':1})\n",
    "\n",
    "#Tranform Embarked\n",
    "# impute empty rows\n",
    "X.Embarked = X.Embarked.fillna(\"S\")\n",
    "\n",
    "# Encode Embarked column\n",
    "dummies = pd.get_dummies(X.Embarked)\n",
    "X.drop('Embarked', axis=1, inplace=True)\n",
    "X = pd.concat([X, dummies], axis=1)\n",
    "\n",
    "dummies2 = pd.get_dummies(X_valid.Embarked)\n",
    "X_valid.drop('Embarked', axis=1, inplace=True)\n",
    "X_valid = pd.concat([X_valid, dummies2], axis=1)"
   ]
  },
  {
   "cell_type": "code",
   "execution_count": 17,
   "metadata": {},
   "outputs": [
    {
     "data": {
      "text/html": [
       "<div>\n",
       "<style scoped>\n",
       "    .dataframe tbody tr th:only-of-type {\n",
       "        vertical-align: middle;\n",
       "    }\n",
       "\n",
       "    .dataframe tbody tr th {\n",
       "        vertical-align: top;\n",
       "    }\n",
       "\n",
       "    .dataframe thead th {\n",
       "        text-align: right;\n",
       "    }\n",
       "</style>\n",
       "<table border=\"1\" class=\"dataframe\">\n",
       "  <thead>\n",
       "    <tr style=\"text-align: right;\">\n",
       "      <th></th>\n",
       "      <th>Pclass</th>\n",
       "      <th>Sex</th>\n",
       "      <th>Age</th>\n",
       "      <th>SibSp</th>\n",
       "      <th>Parch</th>\n",
       "      <th>Fare</th>\n",
       "      <th>C</th>\n",
       "      <th>Q</th>\n",
       "      <th>S</th>\n",
       "    </tr>\n",
       "  </thead>\n",
       "  <tbody>\n",
       "    <tr>\n",
       "      <td>0</td>\n",
       "      <td>3</td>\n",
       "      <td>1</td>\n",
       "      <td>22.0</td>\n",
       "      <td>1</td>\n",
       "      <td>0</td>\n",
       "      <td>7.2500</td>\n",
       "      <td>0</td>\n",
       "      <td>0</td>\n",
       "      <td>1</td>\n",
       "    </tr>\n",
       "    <tr>\n",
       "      <td>1</td>\n",
       "      <td>1</td>\n",
       "      <td>0</td>\n",
       "      <td>38.0</td>\n",
       "      <td>1</td>\n",
       "      <td>0</td>\n",
       "      <td>71.2833</td>\n",
       "      <td>1</td>\n",
       "      <td>0</td>\n",
       "      <td>0</td>\n",
       "    </tr>\n",
       "    <tr>\n",
       "      <td>2</td>\n",
       "      <td>3</td>\n",
       "      <td>0</td>\n",
       "      <td>26.0</td>\n",
       "      <td>0</td>\n",
       "      <td>0</td>\n",
       "      <td>7.9250</td>\n",
       "      <td>0</td>\n",
       "      <td>0</td>\n",
       "      <td>1</td>\n",
       "    </tr>\n",
       "    <tr>\n",
       "      <td>3</td>\n",
       "      <td>1</td>\n",
       "      <td>0</td>\n",
       "      <td>35.0</td>\n",
       "      <td>1</td>\n",
       "      <td>0</td>\n",
       "      <td>53.1000</td>\n",
       "      <td>0</td>\n",
       "      <td>0</td>\n",
       "      <td>1</td>\n",
       "    </tr>\n",
       "    <tr>\n",
       "      <td>4</td>\n",
       "      <td>3</td>\n",
       "      <td>1</td>\n",
       "      <td>35.0</td>\n",
       "      <td>0</td>\n",
       "      <td>0</td>\n",
       "      <td>8.0500</td>\n",
       "      <td>0</td>\n",
       "      <td>0</td>\n",
       "      <td>1</td>\n",
       "    </tr>\n",
       "  </tbody>\n",
       "</table>\n",
       "</div>"
      ],
      "text/plain": [
       "   Pclass  Sex   Age  SibSp  Parch     Fare  C  Q  S\n",
       "0       3    1  22.0      1      0   7.2500  0  0  1\n",
       "1       1    0  38.0      1      0  71.2833  1  0  0\n",
       "2       3    0  26.0      0      0   7.9250  0  0  1\n",
       "3       1    0  35.0      1      0  53.1000  0  0  1\n",
       "4       3    1  35.0      0      0   8.0500  0  0  1"
      ]
     },
     "execution_count": 17,
     "metadata": {},
     "output_type": "execute_result"
    }
   ],
   "source": [
    "X.head(5)"
   ]
  },
  {
   "cell_type": "code",
   "execution_count": 18,
   "metadata": {},
   "outputs": [
    {
     "data": {
      "text/html": [
       "<div>\n",
       "<style scoped>\n",
       "    .dataframe tbody tr th:only-of-type {\n",
       "        vertical-align: middle;\n",
       "    }\n",
       "\n",
       "    .dataframe tbody tr th {\n",
       "        vertical-align: top;\n",
       "    }\n",
       "\n",
       "    .dataframe thead tr th {\n",
       "        text-align: left;\n",
       "    }\n",
       "\n",
       "    .dataframe thead tr:last-of-type th {\n",
       "        text-align: right;\n",
       "    }\n",
       "</style>\n",
       "<table border=\"1\" class=\"dataframe\">\n",
       "  <thead>\n",
       "    <tr>\n",
       "      <th></th>\n",
       "      <th>mean</th>\n",
       "      <th>median</th>\n",
       "      <th>std</th>\n",
       "    </tr>\n",
       "    <tr>\n",
       "      <th></th>\n",
       "      <th>Age</th>\n",
       "      <th>Age</th>\n",
       "      <th>Age</th>\n",
       "    </tr>\n",
       "    <tr>\n",
       "      <th>Sex</th>\n",
       "      <th></th>\n",
       "      <th></th>\n",
       "      <th></th>\n",
       "    </tr>\n",
       "  </thead>\n",
       "  <tbody>\n",
       "    <tr>\n",
       "      <td>female</td>\n",
       "      <td>27.915709</td>\n",
       "      <td>27.0</td>\n",
       "      <td>14.110146</td>\n",
       "    </tr>\n",
       "    <tr>\n",
       "      <td>male</td>\n",
       "      <td>30.726645</td>\n",
       "      <td>29.0</td>\n",
       "      <td>14.678201</td>\n",
       "    </tr>\n",
       "  </tbody>\n",
       "</table>\n",
       "</div>"
      ],
      "text/plain": [
       "             mean median        std\n",
       "              Age    Age        Age\n",
       "Sex                                \n",
       "female  27.915709   27.0  14.110146\n",
       "male    30.726645   29.0  14.678201"
      ]
     },
     "execution_count": 18,
     "metadata": {},
     "output_type": "execute_result"
    }
   ],
   "source": [
    "# checking of there is a difference in age distribution between male and females\n",
    "\n",
    "pd.pivot_table(Train, index='Sex', values='Age', aggfunc=[np.mean, np.median, np.std])"
   ]
  },
  {
   "cell_type": "code",
   "execution_count": 19,
   "metadata": {},
   "outputs": [],
   "source": [
    "# Minor sex difference. Will use mean\n",
    "\n",
    "X.Age = X.Age.fillna(X.Age.mean())\n",
    "X_valid.Age = X_valid.Age.fillna(X_valid.Age.mean())"
   ]
  },
  {
   "cell_type": "code",
   "execution_count": 20,
   "metadata": {},
   "outputs": [
    {
     "name": "stdout",
     "output_type": "stream",
     "text": [
      "<class 'pandas.core.frame.DataFrame'>\n",
      "RangeIndex: 891 entries, 0 to 890\n",
      "Data columns (total 9 columns):\n",
      "Pclass    891 non-null int64\n",
      "Sex       891 non-null int64\n",
      "Age       891 non-null float64\n",
      "SibSp     891 non-null int64\n",
      "Parch     891 non-null int64\n",
      "Fare      891 non-null float64\n",
      "C         891 non-null uint8\n",
      "Q         891 non-null uint8\n",
      "S         891 non-null uint8\n",
      "dtypes: float64(2), int64(4), uint8(3)\n",
      "memory usage: 44.5 KB\n",
      "None\n",
      "\n",
      "\n",
      "<class 'pandas.core.frame.DataFrame'>\n",
      "RangeIndex: 418 entries, 0 to 417\n",
      "Data columns (total 9 columns):\n",
      "Pclass    418 non-null int64\n",
      "Sex       418 non-null int64\n",
      "Age       418 non-null float64\n",
      "SibSp     418 non-null int64\n",
      "Parch     418 non-null int64\n",
      "Fare      417 non-null float64\n",
      "C         418 non-null uint8\n",
      "Q         418 non-null uint8\n",
      "S         418 non-null uint8\n",
      "dtypes: float64(2), int64(4), uint8(3)\n",
      "memory usage: 20.9 KB\n",
      "None\n"
     ]
    }
   ],
   "source": [
    "# Check the Training set and the Test set\n",
    "print(X.info())\n",
    "print('\\n')\n",
    "print(X_valid.info())"
   ]
  },
  {
   "cell_type": "code",
   "execution_count": 21,
   "metadata": {},
   "outputs": [
    {
     "data": {
      "image/png": "[encoded data removed]",
      "text/plain": [
       "<Figure size 432x288 with 1 Axes>"
      ]
     },
     "metadata": {
      "needs_background": "light"
     },
     "output_type": "display_data"
    }
   ],
   "source": [
    "# one value is missing from the Test data set in Fare\n",
    "\n",
    "plt.hist(X_valid.Fare, bins=20)\n",
    "plt.axvline(X_valid.Fare.mean(), label='Mean', color='black')\n",
    "plt.axvline(X_valid.Fare.median(), label='Median', color='Red')\n",
    "plt.axvline(X_valid.Fare.median(), label='Mode', color='orange')\n",
    "plt.legend()\n",
    "plt.show()"
   ]
  },
  {
   "cell_type": "code",
   "execution_count": 22,
   "metadata": {},
   "outputs": [],
   "source": [
    "# Median and Mode seem to best fit the average data\n",
    "X_valid.Fare = X_valid.Fare.fillna(X_valid.Fare.median())"
   ]
  },
  {
   "cell_type": "markdown",
   "metadata": {},
   "source": [
    "# Running models"
   ]
  },
  {
   "cell_type": "code",
   "execution_count": 23,
   "metadata": {},
   "outputs": [],
   "source": [
    "from sklearn.ensemble import RandomForestClassifier  \n",
    "\n",
    "RFR = RandomForestClassifier(n_estimators=50, random_state=42)\n",
    "RFR.fit(X,Y)\n",
    "RFR_pred = RFR.predict(X_valid)"
   ]
  },
  {
   "cell_type": "code",
   "execution_count": 24,
   "metadata": {},
   "outputs": [],
   "source": [
    "submission = pd.DataFrame({ \"PassengerId\": Test[\"PassengerId\"], \"Survived\": RFR_pred})\n",
    "submission.to_csv('submission.csv', index=False)"
   ]
  },
  {
   "cell_type": "markdown",
   "metadata": {},
   "source": [
    "# Feedback from competition \n",
    "\n",
    "Score of 0.75598 meaning an accuracy of 76%, which is okay, but not great. But we can do better. \n",
    "\n",
    "Several options to improve accuracy:\n",
    "- improve input features\n",
    "- tune hyperparameters of the model\n",
    "- change to a different model\n",
    "\n",
    "let's first how accurate the model is with K-cross validation"
   ]
  },
  {
   "cell_type": "code",
   "execution_count": 25,
   "metadata": {},
   "outputs": [
    {
     "name": "stdout",
     "output_type": "stream",
     "text": [
      "[0.80446927 0.77653631 0.75418994 0.81564246 0.80446927]\n",
      "0.7910614525139665\n"
     ]
    }
   ],
   "source": [
    "from sklearn.model_selection import StratifiedShuffleSplit\n",
    "from sklearn.model_selection import cross_val_score\n",
    "\n",
    "cv = StratifiedShuffleSplit(n_splits=5, test_size=0.2, random_state=42)\n",
    "K_scores = cross_val_score(RFR, X, Y, cv=cv)\n",
    "print(K_scores)\n",
    "print(np.mean(K_scores))"
   ]
  },
  {
   "cell_type": "markdown",
   "metadata": {},
   "source": [
    "The model is on average 79% accurate. I want to try and get a model up to 90%.\n",
    "\n",
    "Let's take a look at the input features"
   ]
  },
  {
   "cell_type": "code",
   "execution_count": 26,
   "metadata": {},
   "outputs": [
    {
     "name": "stdout",
     "output_type": "stream",
     "text": [
      "[0.09371783751931631, 0.270592580189404, 0.25740413159209835, 0.04490279221219327, 0.039724730862214556, 0.26009198143369494, 0.012479361508440033, 0.008608465568483357, 0.012478119114155172]\n"
     ]
    }
   ],
   "source": [
    "feature_importance = list(RFR.feature_importances_)\n",
    "print(feature_importance)"
   ]
  },
  {
   "cell_type": "code",
   "execution_count": 27,
   "metadata": {},
   "outputs": [
    {
     "data": {
      "text/plain": [
       "<matplotlib.axes._subplots.AxesSubplot at 0x1bf7c2c92c8>"
      ]
     },
     "execution_count": 27,
     "metadata": {},
     "output_type": "execute_result"
    },
    {
     "data": {
      "image/png": "[encoded data removed]",
      "text/plain": [
       "<Figure size 432x288 with 1 Axes>"
      ]
     },
     "metadata": {
      "needs_background": "light"
     },
     "output_type": "display_data"
    }
   ],
   "source": [
    "features={}\n",
    "\n",
    "for n in range(len(feature_importance)):\n",
    "    features[list(X_valid.columns)[n]] = feature_importance[n]*100\n",
    "    \n",
    "features = pd.Series(features)\n",
    "features.sort_values(ascending=True).plot(kind='barh')"
   ]
  },
  {
   "cell_type": "markdown",
   "metadata": {},
   "source": [
    "More than 75% of the model is determined by the features: Sex, Fare and Age.\n",
    "\n",
    "Let's test if dropping the other parameters improve or hurt the model."
   ]
  },
  {
   "cell_type": "code",
   "execution_count": 28,
   "metadata": {},
   "outputs": [
    {
     "name": "stdout",
     "output_type": "stream",
     "text": [
      "[0.80446927 0.77653631 0.75418994 0.81564246 0.80446927]\n",
      "0.7910614525139665\n"
     ]
    }
   ],
   "source": [
    "RFR_dropped_low = RandomForestClassifier(n_estimators=50, random_state=42)\n",
    "\n",
    "cv = StratifiedShuffleSplit(n_splits=5, test_size=0.2, random_state=42)\n",
    "RFR_dropped_low.fit(X.drop(['Pclass','SibSp','Parch','C','S','Q'],axis=1),Y)\n",
    "\n",
    "K_scores = cross_val_score(RFR_dropped_low, X, Y, cv=cv)\n",
    "print(K_scores)\n",
    "print(np.mean(K_scores))"
   ]
  },
  {
   "cell_type": "code",
   "execution_count": 29,
   "metadata": {},
   "outputs": [],
   "source": [
    "RFR_pred_dropped = RFR_dropped_low.predict(X_valid.drop(['Pclass','SibSp','Parch','C','S','Q'],axis=1))\n",
    "\n",
    "submission = pd.DataFrame({ \"PassengerId\": Test[\"PassengerId\"], \"Survived\": RFR_pred_dropped})\n",
    "submission.to_csv('submission_dropped.csv', index=False)"
   ]
  },
  {
   "cell_type": "markdown",
   "metadata": {},
   "source": [
    "Score of 0.72. So Adding all these columns only improve the model by 3%...\n",
    "\n",
    "Let's optimize the data.\n",
    "\n",
    "- SibSp + Parch = family size\n",
    "- C,S,Q (Embarked) -> label encoding instead of one hot encoding"
   ]
  },
  {
   "cell_type": "code",
   "execution_count": 30,
   "metadata": {},
   "outputs": [],
   "source": [
    "# Apply changes to Training set: X\n",
    "X.drop(['SibSp','Parch','C','S','Q'],axis=1, inplace=True)\n"
   ]
  },
  {
   "cell_type": "code",
   "execution_count": 31,
   "metadata": {},
   "outputs": [],
   "source": [
    "X['Family_size'] = Train['SibSp']+Train['Parch']\n",
    "X['Embarked'] = Train['Embarked'].map({'S':0,'C':1,'Q':2}).fillna(0)"
   ]
  },
  {
   "cell_type": "code",
   "execution_count": 32,
   "metadata": {},
   "outputs": [],
   "source": [
    "# Apply changes to Test set: X_valid\n",
    "X_valid.drop(['SibSp','Parch','C','S','Q'],axis=1, inplace=True)\n",
    "\n",
    "X_valid['Family_size'] = Test['SibSp']+Test['Parch']\n",
    "X_valid['Embarked'] = Test['Embarked'].map({'S':0,'C':1,'Q':2})"
   ]
  },
  {
   "cell_type": "code",
   "execution_count": 33,
   "metadata": {},
   "outputs": [
    {
     "data": {
      "text/html": [
       "<div>\n",
       "<style scoped>\n",
       "    .dataframe tbody tr th:only-of-type {\n",
       "        vertical-align: middle;\n",
       "    }\n",
       "\n",
       "    .dataframe tbody tr th {\n",
       "        vertical-align: top;\n",
       "    }\n",
       "\n",
       "    .dataframe thead th {\n",
       "        text-align: right;\n",
       "    }\n",
       "</style>\n",
       "<table border=\"1\" class=\"dataframe\">\n",
       "  <thead>\n",
       "    <tr style=\"text-align: right;\">\n",
       "      <th></th>\n",
       "      <th>Pclass</th>\n",
       "      <th>Sex</th>\n",
       "      <th>Age</th>\n",
       "      <th>Fare</th>\n",
       "      <th>Family_size</th>\n",
       "      <th>Embarked</th>\n",
       "    </tr>\n",
       "  </thead>\n",
       "  <tbody>\n",
       "    <tr>\n",
       "      <td>0</td>\n",
       "      <td>3</td>\n",
       "      <td>1</td>\n",
       "      <td>22.0</td>\n",
       "      <td>7.2500</td>\n",
       "      <td>1</td>\n",
       "      <td>0.0</td>\n",
       "    </tr>\n",
       "    <tr>\n",
       "      <td>1</td>\n",
       "      <td>1</td>\n",
       "      <td>0</td>\n",
       "      <td>38.0</td>\n",
       "      <td>71.2833</td>\n",
       "      <td>1</td>\n",
       "      <td>1.0</td>\n",
       "    </tr>\n",
       "    <tr>\n",
       "      <td>2</td>\n",
       "      <td>3</td>\n",
       "      <td>0</td>\n",
       "      <td>26.0</td>\n",
       "      <td>7.9250</td>\n",
       "      <td>0</td>\n",
       "      <td>0.0</td>\n",
       "    </tr>\n",
       "    <tr>\n",
       "      <td>3</td>\n",
       "      <td>1</td>\n",
       "      <td>0</td>\n",
       "      <td>35.0</td>\n",
       "      <td>53.1000</td>\n",
       "      <td>1</td>\n",
       "      <td>0.0</td>\n",
       "    </tr>\n",
       "    <tr>\n",
       "      <td>4</td>\n",
       "      <td>3</td>\n",
       "      <td>1</td>\n",
       "      <td>35.0</td>\n",
       "      <td>8.0500</td>\n",
       "      <td>0</td>\n",
       "      <td>0.0</td>\n",
       "    </tr>\n",
       "  </tbody>\n",
       "</table>\n",
       "</div>"
      ],
      "text/plain": [
       "   Pclass  Sex   Age     Fare  Family_size  Embarked\n",
       "0       3    1  22.0   7.2500            1       0.0\n",
       "1       1    0  38.0  71.2833            1       1.0\n",
       "2       3    0  26.0   7.9250            0       0.0\n",
       "3       1    0  35.0  53.1000            1       0.0\n",
       "4       3    1  35.0   8.0500            0       0.0"
      ]
     },
     "execution_count": 33,
     "metadata": {},
     "output_type": "execute_result"
    }
   ],
   "source": [
    "X.head()"
   ]
  },
  {
   "cell_type": "code",
   "execution_count": 34,
   "metadata": {},
   "outputs": [
    {
     "data": {
      "text/html": [
       "<div>\n",
       "<style scoped>\n",
       "    .dataframe tbody tr th:only-of-type {\n",
       "        vertical-align: middle;\n",
       "    }\n",
       "\n",
       "    .dataframe tbody tr th {\n",
       "        vertical-align: top;\n",
       "    }\n",
       "\n",
       "    .dataframe thead th {\n",
       "        text-align: right;\n",
       "    }\n",
       "</style>\n",
       "<table border=\"1\" class=\"dataframe\">\n",
       "  <thead>\n",
       "    <tr style=\"text-align: right;\">\n",
       "      <th></th>\n",
       "      <th>Pclass</th>\n",
       "      <th>Sex</th>\n",
       "      <th>Age</th>\n",
       "      <th>Fare</th>\n",
       "      <th>Family_size</th>\n",
       "      <th>Embarked</th>\n",
       "    </tr>\n",
       "  </thead>\n",
       "  <tbody>\n",
       "    <tr>\n",
       "      <td>0</td>\n",
       "      <td>3</td>\n",
       "      <td>1</td>\n",
       "      <td>34.5</td>\n",
       "      <td>7.8292</td>\n",
       "      <td>0</td>\n",
       "      <td>2</td>\n",
       "    </tr>\n",
       "    <tr>\n",
       "      <td>1</td>\n",
       "      <td>3</td>\n",
       "      <td>0</td>\n",
       "      <td>47.0</td>\n",
       "      <td>7.0000</td>\n",
       "      <td>1</td>\n",
       "      <td>0</td>\n",
       "    </tr>\n",
       "    <tr>\n",
       "      <td>2</td>\n",
       "      <td>2</td>\n",
       "      <td>1</td>\n",
       "      <td>62.0</td>\n",
       "      <td>9.6875</td>\n",
       "      <td>0</td>\n",
       "      <td>2</td>\n",
       "    </tr>\n",
       "    <tr>\n",
       "      <td>3</td>\n",
       "      <td>3</td>\n",
       "      <td>1</td>\n",
       "      <td>27.0</td>\n",
       "      <td>8.6625</td>\n",
       "      <td>0</td>\n",
       "      <td>0</td>\n",
       "    </tr>\n",
       "    <tr>\n",
       "      <td>4</td>\n",
       "      <td>3</td>\n",
       "      <td>0</td>\n",
       "      <td>22.0</td>\n",
       "      <td>12.2875</td>\n",
       "      <td>2</td>\n",
       "      <td>0</td>\n",
       "    </tr>\n",
       "  </tbody>\n",
       "</table>\n",
       "</div>"
      ],
      "text/plain": [
       "   Pclass  Sex   Age     Fare  Family_size  Embarked\n",
       "0       3    1  34.5   7.8292            0         2\n",
       "1       3    0  47.0   7.0000            1         0\n",
       "2       2    1  62.0   9.6875            0         2\n",
       "3       3    1  27.0   8.6625            0         0\n",
       "4       3    0  22.0  12.2875            2         0"
      ]
     },
     "execution_count": 34,
     "metadata": {},
     "output_type": "execute_result"
    }
   ],
   "source": [
    "X_valid.head()"
   ]
  },
  {
   "cell_type": "code",
   "execution_count": 35,
   "metadata": {},
   "outputs": [
    {
     "data": {
      "text/html": [
       "<div>\n",
       "<style scoped>\n",
       "    .dataframe tbody tr th:only-of-type {\n",
       "        vertical-align: middle;\n",
       "    }\n",
       "\n",
       "    .dataframe tbody tr th {\n",
       "        vertical-align: top;\n",
       "    }\n",
       "\n",
       "    .dataframe thead th {\n",
       "        text-align: right;\n",
       "    }\n",
       "</style>\n",
       "<table border=\"1\" class=\"dataframe\">\n",
       "  <thead>\n",
       "    <tr style=\"text-align: right;\">\n",
       "      <th></th>\n",
       "      <th>Pclass</th>\n",
       "      <th>Sex</th>\n",
       "      <th>Age</th>\n",
       "      <th>Fare</th>\n",
       "      <th>Family_size</th>\n",
       "      <th>Embarked</th>\n",
       "    </tr>\n",
       "  </thead>\n",
       "  <tbody>\n",
       "    <tr>\n",
       "      <td>count</td>\n",
       "      <td>891.000000</td>\n",
       "      <td>891.000000</td>\n",
       "      <td>891.000000</td>\n",
       "      <td>891.000000</td>\n",
       "      <td>891.000000</td>\n",
       "      <td>891.000000</td>\n",
       "    </tr>\n",
       "    <tr>\n",
       "      <td>mean</td>\n",
       "      <td>2.308642</td>\n",
       "      <td>0.647587</td>\n",
       "      <td>29.699118</td>\n",
       "      <td>32.204208</td>\n",
       "      <td>0.904602</td>\n",
       "      <td>0.361392</td>\n",
       "    </tr>\n",
       "    <tr>\n",
       "      <td>std</td>\n",
       "      <td>0.836071</td>\n",
       "      <td>0.477990</td>\n",
       "      <td>13.002015</td>\n",
       "      <td>49.693429</td>\n",
       "      <td>1.613459</td>\n",
       "      <td>0.635673</td>\n",
       "    </tr>\n",
       "    <tr>\n",
       "      <td>min</td>\n",
       "      <td>1.000000</td>\n",
       "      <td>0.000000</td>\n",
       "      <td>0.420000</td>\n",
       "      <td>0.000000</td>\n",
       "      <td>0.000000</td>\n",
       "      <td>0.000000</td>\n",
       "    </tr>\n",
       "    <tr>\n",
       "      <td>25%</td>\n",
       "      <td>2.000000</td>\n",
       "      <td>0.000000</td>\n",
       "      <td>22.000000</td>\n",
       "      <td>7.910400</td>\n",
       "      <td>0.000000</td>\n",
       "      <td>0.000000</td>\n",
       "    </tr>\n",
       "    <tr>\n",
       "      <td>50%</td>\n",
       "      <td>3.000000</td>\n",
       "      <td>1.000000</td>\n",
       "      <td>29.699118</td>\n",
       "      <td>14.454200</td>\n",
       "      <td>0.000000</td>\n",
       "      <td>0.000000</td>\n",
       "    </tr>\n",
       "    <tr>\n",
       "      <td>75%</td>\n",
       "      <td>3.000000</td>\n",
       "      <td>1.000000</td>\n",
       "      <td>35.000000</td>\n",
       "      <td>31.000000</td>\n",
       "      <td>1.000000</td>\n",
       "      <td>1.000000</td>\n",
       "    </tr>\n",
       "    <tr>\n",
       "      <td>max</td>\n",
       "      <td>3.000000</td>\n",
       "      <td>1.000000</td>\n",
       "      <td>80.000000</td>\n",
       "      <td>512.329200</td>\n",
       "      <td>10.000000</td>\n",
       "      <td>2.000000</td>\n",
       "    </tr>\n",
       "  </tbody>\n",
       "</table>\n",
       "</div>"
      ],
      "text/plain": [
       "           Pclass         Sex         Age        Fare  Family_size    Embarked\n",
       "count  891.000000  891.000000  891.000000  891.000000   891.000000  891.000000\n",
       "mean     2.308642    0.647587   29.699118   32.204208     0.904602    0.361392\n",
       "std      0.836071    0.477990   13.002015   49.693429     1.613459    0.635673\n",
       "min      1.000000    0.000000    0.420000    0.000000     0.000000    0.000000\n",
       "25%      2.000000    0.000000   22.000000    7.910400     0.000000    0.000000\n",
       "50%      3.000000    1.000000   29.699118   14.454200     0.000000    0.000000\n",
       "75%      3.000000    1.000000   35.000000   31.000000     1.000000    1.000000\n",
       "max      3.000000    1.000000   80.000000  512.329200    10.000000    2.000000"
      ]
     },
     "execution_count": 35,
     "metadata": {},
     "output_type": "execute_result"
    }
   ],
   "source": [
    "# Let's fit the model again\n",
    "X.describe()"
   ]
  },
  {
   "cell_type": "code",
   "execution_count": 36,
   "metadata": {},
   "outputs": [
    {
     "data": {
      "text/html": [
       "<div>\n",
       "<style scoped>\n",
       "    .dataframe tbody tr th:only-of-type {\n",
       "        vertical-align: middle;\n",
       "    }\n",
       "\n",
       "    .dataframe tbody tr th {\n",
       "        vertical-align: top;\n",
       "    }\n",
       "\n",
       "    .dataframe thead th {\n",
       "        text-align: right;\n",
       "    }\n",
       "</style>\n",
       "<table border=\"1\" class=\"dataframe\">\n",
       "  <thead>\n",
       "    <tr style=\"text-align: right;\">\n",
       "      <th></th>\n",
       "      <th>Pclass</th>\n",
       "      <th>Sex</th>\n",
       "      <th>Age</th>\n",
       "      <th>Fare</th>\n",
       "      <th>Family_size</th>\n",
       "      <th>Embarked</th>\n",
       "    </tr>\n",
       "  </thead>\n",
       "  <tbody>\n",
       "    <tr>\n",
       "      <td>count</td>\n",
       "      <td>418.000000</td>\n",
       "      <td>418.000000</td>\n",
       "      <td>418.000000</td>\n",
       "      <td>418.000000</td>\n",
       "      <td>418.000000</td>\n",
       "      <td>418.000000</td>\n",
       "    </tr>\n",
       "    <tr>\n",
       "      <td>mean</td>\n",
       "      <td>2.265550</td>\n",
       "      <td>0.636364</td>\n",
       "      <td>30.272590</td>\n",
       "      <td>35.576535</td>\n",
       "      <td>0.839713</td>\n",
       "      <td>0.464115</td>\n",
       "    </tr>\n",
       "    <tr>\n",
       "      <td>std</td>\n",
       "      <td>0.841838</td>\n",
       "      <td>0.481622</td>\n",
       "      <td>12.634534</td>\n",
       "      <td>55.850103</td>\n",
       "      <td>1.519072</td>\n",
       "      <td>0.685516</td>\n",
       "    </tr>\n",
       "    <tr>\n",
       "      <td>min</td>\n",
       "      <td>1.000000</td>\n",
       "      <td>0.000000</td>\n",
       "      <td>0.170000</td>\n",
       "      <td>0.000000</td>\n",
       "      <td>0.000000</td>\n",
       "      <td>0.000000</td>\n",
       "    </tr>\n",
       "    <tr>\n",
       "      <td>25%</td>\n",
       "      <td>1.000000</td>\n",
       "      <td>0.000000</td>\n",
       "      <td>23.000000</td>\n",
       "      <td>7.895800</td>\n",
       "      <td>0.000000</td>\n",
       "      <td>0.000000</td>\n",
       "    </tr>\n",
       "    <tr>\n",
       "      <td>50%</td>\n",
       "      <td>3.000000</td>\n",
       "      <td>1.000000</td>\n",
       "      <td>30.272590</td>\n",
       "      <td>14.454200</td>\n",
       "      <td>0.000000</td>\n",
       "      <td>0.000000</td>\n",
       "    </tr>\n",
       "    <tr>\n",
       "      <td>75%</td>\n",
       "      <td>3.000000</td>\n",
       "      <td>1.000000</td>\n",
       "      <td>35.750000</td>\n",
       "      <td>31.471875</td>\n",
       "      <td>1.000000</td>\n",
       "      <td>1.000000</td>\n",
       "    </tr>\n",
       "    <tr>\n",
       "      <td>max</td>\n",
       "      <td>3.000000</td>\n",
       "      <td>1.000000</td>\n",
       "      <td>76.000000</td>\n",
       "      <td>512.329200</td>\n",
       "      <td>10.000000</td>\n",
       "      <td>2.000000</td>\n",
       "    </tr>\n",
       "  </tbody>\n",
       "</table>\n",
       "</div>"
      ],
      "text/plain": [
       "           Pclass         Sex         Age        Fare  Family_size    Embarked\n",
       "count  418.000000  418.000000  418.000000  418.000000   418.000000  418.000000\n",
       "mean     2.265550    0.636364   30.272590   35.576535     0.839713    0.464115\n",
       "std      0.841838    0.481622   12.634534   55.850103     1.519072    0.685516\n",
       "min      1.000000    0.000000    0.170000    0.000000     0.000000    0.000000\n",
       "25%      1.000000    0.000000   23.000000    7.895800     0.000000    0.000000\n",
       "50%      3.000000    1.000000   30.272590   14.454200     0.000000    0.000000\n",
       "75%      3.000000    1.000000   35.750000   31.471875     1.000000    1.000000\n",
       "max      3.000000    1.000000   76.000000  512.329200    10.000000    2.000000"
      ]
     },
     "execution_count": 36,
     "metadata": {},
     "output_type": "execute_result"
    }
   ],
   "source": [
    "X_valid.describe()"
   ]
  },
  {
   "cell_type": "code",
   "execution_count": 37,
   "metadata": {},
   "outputs": [
    {
     "name": "stdout",
     "output_type": "stream",
     "text": [
      "[0.79329609 0.77094972 0.73743017 0.80446927 0.78212291]\n",
      "0.7776536312849162\n"
     ]
    }
   ],
   "source": [
    "# Fitting the new features in the model\n",
    "RFR_new_features = RandomForestClassifier(n_estimators=50,random_state=42)\n",
    "\n",
    "cv = StratifiedShuffleSplit(n_splits=5, test_size=0.2, random_state=42)\n",
    "K_scores = cross_val_score(RFR_new_features, X, Y, cv=cv)\n",
    "print(K_scores)\n",
    "print(np.mean(K_scores))"
   ]
  },
  {
   "cell_type": "markdown",
   "metadata": {},
   "source": [
    "The K-Fold accuracy is not much improved from original. Let's see score on Kaggle"
   ]
  },
  {
   "cell_type": "code",
   "execution_count": 38,
   "metadata": {},
   "outputs": [],
   "source": [
    "RFR_new_features.fit(X,Y)\n",
    "RFR_pred_new_features = RFR_new_features.predict(X_valid)\n",
    "\n",
    "submission = pd.DataFrame({ \"PassengerId\": Test[\"PassengerId\"], \"Survived\": RFR_pred_new_features})\n",
    "submission.to_csv('submission_new.csv', index=False)"
   ]
  },
  {
   "cell_type": "markdown",
   "metadata": {},
   "source": [
    "# Feedback of competition\n",
    "\n",
    "Score of 0.75119 which is slightly worse than our first attempt.\n",
    "\n",
    "Before we try hypertuning, let's try and add two more features. From reading the discussion and seeing other notebooks on Kaggle, I saw that two columns have some information in it. \n",
    "\n",
    "- Name:\n",
    "    - The values are built-up as following: family name, title and then first name. Mainly title is believed to correlate with survival rate.\n",
    "- Cabin:\n",
    "    - Cabin is only assigned to richer passengers. So having a cabin is linked to a higher survival rate"
   ]
  },
  {
   "cell_type": "code",
   "execution_count": 39,
   "metadata": {},
   "outputs": [
    {
     "data": {
      "text/plain": [
       "0                              Braund, Mr. Owen Harris\n",
       "1    Cumings, Mrs. John Bradley (Florence Briggs Th...\n",
       "2                               Heikkinen, Miss. Laina\n",
       "3         Futrelle, Mrs. Jacques Heath (Lily May Peel)\n",
       "4                             Allen, Mr. William Henry\n",
       "Name: Name, dtype: object"
      ]
     },
     "execution_count": 39,
     "metadata": {},
     "output_type": "execute_result"
    }
   ],
   "source": [
    "# Explore name column\n",
    "Train['Name'].head(5)"
   ]
  },
  {
   "cell_type": "code",
   "execution_count": 40,
   "metadata": {},
   "outputs": [
    {
     "data": {
      "text/plain": [
       "Mr          517\n",
       "Miss        182\n",
       "Mrs         125\n",
       "Master       40\n",
       "Dr            7\n",
       "Rev           6\n",
       "Mlle          2\n",
       "Major         2\n",
       "Col           2\n",
       "Mme           1\n",
       "Countess      1\n",
       "Don           1\n",
       "Jonkheer      1\n",
       "Sir           1\n",
       "Lady          1\n",
       "Capt          1\n",
       "Ms            1\n",
       "Name: Title, dtype: int64"
      ]
     },
     "execution_count": 40,
     "metadata": {},
     "output_type": "execute_result"
    }
   ],
   "source": [
    "Train['Title'] = Train.Name.str.extract('([A-Za-z]+)\\.')\n",
    "Test['Title'] = Test.Name.str.extract('([A-Za-z]+)\\.')\n",
    "\n",
    "Train.Title.value_counts()"
   ]
  },
  {
   "cell_type": "code",
   "execution_count": 41,
   "metadata": {},
   "outputs": [
    {
     "data": {
      "text/plain": [
       "<matplotlib.axes._subplots.AxesSubplot at 0x1bf7c373148>"
      ]
     },
     "execution_count": 41,
     "metadata": {},
     "output_type": "execute_result"
    },
    {
     "data": {
      "image/png": "[encoded data removed]",
      "text/plain": [
       "<Figure size 432x288 with 1 Axes>"
      ]
     },
     "metadata": {
      "needs_background": "light"
     },
     "output_type": "display_data"
    }
   ],
   "source": [
    "# Title vs Survived\n",
    "\n",
    "pd.pivot_table(Train, index='Title', values='Survived').sort_values(by='Survived').plot(kind='barh')"
   ]
  },
  {
   "cell_type": "code",
   "execution_count": 42,
   "metadata": {},
   "outputs": [],
   "source": [
    "title_map = {'Mr':0,\n",
    "            'Miss':1,\n",
    "            'Mrs':1,\n",
    "            'Master':2}\n",
    "\n",
    "\n",
    "X['Title'] = Train['Title'].map(title_map).fillna(3)\n",
    "X_valid['Title']= Test['Title'].map(title_map).fillna(3)"
   ]
  },
  {
   "cell_type": "code",
   "execution_count": 43,
   "metadata": {},
   "outputs": [
    {
     "name": "stderr",
     "output_type": "stream",
     "text": [
      "C:\\ProgramData\\Anaconda3\\lib\\site-packages\\ipykernel_launcher.py:3: SettingWithCopyWarning: \n",
      "A value is trying to be set on a copy of a slice from a DataFrame\n",
      "\n",
      "See the caveats in the documentation: http://pandas.pydata.org/pandas-docs/stable/user_guide/indexing.html#returning-a-view-versus-a-copy\n",
      "  This is separate from the ipykernel package so we can avoid doing imports until\n"
     ]
    },
    {
     "data": {
      "text/plain": [
       "0    687\n",
       "1    204\n",
       "Name: Cabin, dtype: int64"
      ]
     },
     "execution_count": 43,
     "metadata": {},
     "output_type": "execute_result"
    }
   ],
   "source": [
    "# explore cabin\n",
    "Cabin = Train.Cabin\n",
    "Cabin[Cabin.notna()]=1\n",
    "Cabin.fillna(0, inplace=True)\n",
    "\n",
    "Cabin.value_counts(dropna=False)"
   ]
  },
  {
   "cell_type": "code",
   "execution_count": 44,
   "metadata": {},
   "outputs": [],
   "source": [
    "# explore cabin\n",
    "\n",
    "X['Cabin'] = Cabin"
   ]
  },
  {
   "cell_type": "code",
   "execution_count": 45,
   "metadata": {},
   "outputs": [
    {
     "name": "stderr",
     "output_type": "stream",
     "text": [
      "C:\\ProgramData\\Anaconda3\\lib\\site-packages\\ipykernel_launcher.py:2: SettingWithCopyWarning: \n",
      "A value is trying to be set on a copy of a slice from a DataFrame\n",
      "\n",
      "See the caveats in the documentation: http://pandas.pydata.org/pandas-docs/stable/user_guide/indexing.html#returning-a-view-versus-a-copy\n",
      "  \n"
     ]
    }
   ],
   "source": [
    "Cabin = Test.Cabin\n",
    "Cabin[Cabin.notna()]=1\n",
    "Cabin.fillna(0, inplace=True)\n",
    "\n",
    "Cabin.value_counts(dropna=False)\n",
    "X_valid['Cabin'] = Cabin"
   ]
  },
  {
   "cell_type": "code",
   "execution_count": 46,
   "metadata": {},
   "outputs": [
    {
     "name": "stdout",
     "output_type": "stream",
     "text": [
      "[0.81005587 0.75977654 0.75977654 0.84357542 0.78212291]\n",
      "0.7910614525139664\n"
     ]
    }
   ],
   "source": [
    "RFR_added_features = RandomForestClassifier(n_estimators=50,random_state=42)\n",
    "\n",
    "cv = StratifiedShuffleSplit(n_splits=5, test_size=0.2, random_state=42)\n",
    "K_scores = cross_val_score(RFR_added_features, X, Y, cv=cv)\n",
    "print(K_scores)\n",
    "print(np.mean(K_scores))"
   ]
  },
  {
   "cell_type": "code",
   "execution_count": 47,
   "metadata": {},
   "outputs": [],
   "source": [
    "RFR_added_features.fit(X,Y)\n",
    "RFR_pred_added_features = RFR_added_features.predict(X_valid)\n",
    "\n",
    "submission = pd.DataFrame({ \"PassengerId\": Test[\"PassengerId\"], \"Survived\": RFR_pred_added_features})\n",
    "submission.to_csv('submission_added.csv', index=False)"
   ]
  },
  {
   "cell_type": "code",
   "execution_count": 48,
   "metadata": {},
   "outputs": [
    {
     "data": {
      "text/plain": [
       "<matplotlib.axes._subplots.AxesSubplot at 0x1bf7c4389c8>"
      ]
     },
     "execution_count": 48,
     "metadata": {},
     "output_type": "execute_result"
    },
    {
     "data": {
      "image/png": "[encoded data removed]",
      "text/plain": [
       "<Figure size 432x288 with 1 Axes>"
      ]
     },
     "metadata": {
      "needs_background": "light"
     },
     "output_type": "display_data"
    }
   ],
   "source": [
    "feature_importance = list(RFR_added_features.feature_importances_)\n",
    "\n",
    "features={}\n",
    "\n",
    "for n in range(len(feature_importance)):\n",
    "    features[list(X_valid.columns)[n]] = feature_importance[n]*100\n",
    "    \n",
    "features = pd.Series(features)\n",
    "features.sort_values(ascending=True).plot(kind='barh')"
   ]
  },
  {
   "cell_type": "markdown",
   "metadata": {},
   "source": [
    "# Feedback from competition \n",
    "\n",
    "Score of 0.74162. Slightly worse than first attempt. Next option to try is hypertuning the model."
   ]
  },
  {
   "cell_type": "markdown",
   "metadata": {},
   "source": [
    "# Hypertuning\n",
    "\n",
    "Hypertuning can be done by running the model with different model parameters. Sklearn has a builtin function for this GridSearchCV. Depending on the number of input variables, this can take a very long time."
   ]
  },
  {
   "cell_type": "code",
   "execution_count": 50,
   "metadata": {},
   "outputs": [
    {
     "name": "stdout",
     "output_type": "stream",
     "text": [
      "Fitting 5 folds for each of 6912 candidates, totalling 34560 fits\n"
     ]
    },
    {
     "name": "stderr",
     "output_type": "stream",
     "text": [
      "[Parallel(n_jobs=-1)]: Using backend LokyBackend with 4 concurrent workers.\n",
      "[Parallel(n_jobs=-1)]: Done   5 tasks      | elapsed:    2.5s\n",
      "[Parallel(n_jobs=-1)]: Done  10 tasks      | elapsed:    2.7s\n",
      "[Parallel(n_jobs=-1)]: Done  17 tasks      | elapsed:    3.2s\n",
      "[Parallel(n_jobs=-1)]: Done  24 tasks      | elapsed:    4.2s\n",
      "[Parallel(n_jobs=-1)]: Done  33 tasks      | elapsed:    5.6s\n",
      "[Parallel(n_jobs=-1)]: Done  42 tasks      | elapsed:    6.0s\n",
      "[Parallel(n_jobs=-1)]: Done  53 tasks      | elapsed:    7.3s\n",
      "[Parallel(n_jobs=-1)]: Done  64 tasks      | elapsed:    8.8s\n",
      "[Parallel(n_jobs=-1)]: Done  77 tasks      | elapsed:    9.7s\n",
      "[Parallel(n_jobs=-1)]: Done  90 tasks      | elapsed:   11.9s\n",
      "[Parallel(n_jobs=-1)]: Done 105 tasks      | elapsed:   12.8s\n",
      "[Parallel(n_jobs=-1)]: Done 120 tasks      | elapsed:   15.1s\n",
      "[Parallel(n_jobs=-1)]: Done 137 tasks      | elapsed:   16.0s\n",
      "[Parallel(n_jobs=-1)]: Done 154 tasks      | elapsed:   18.2s\n",
      "[Parallel(n_jobs=-1)]: Done 173 tasks      | elapsed:   20.0s\n",
      "[Parallel(n_jobs=-1)]: Done 192 tasks      | elapsed:   21.9s\n",
      "[Parallel(n_jobs=-1)]: Done 213 tasks      | elapsed:   24.5s\n",
      "[Parallel(n_jobs=-1)]: Done 234 tasks      | elapsed:   26.3s\n",
      "[Parallel(n_jobs=-1)]: Done 257 tasks      | elapsed:   28.7s\n",
      "[Parallel(n_jobs=-1)]: Done 280 tasks      | elapsed:   31.1s\n",
      "[Parallel(n_jobs=-1)]: Done 305 tasks      | elapsed:   33.9s\n",
      "[Parallel(n_jobs=-1)]: Done 330 tasks      | elapsed:   36.8s\n",
      "[Parallel(n_jobs=-1)]: Done 357 tasks      | elapsed:   39.7s\n",
      "[Parallel(n_jobs=-1)]: Done 384 tasks      | elapsed:   41.7s\n",
      "[Parallel(n_jobs=-1)]: Done 413 tasks      | elapsed:   44.6s\n",
      "[Parallel(n_jobs=-1)]: Done 442 tasks      | elapsed:   47.5s\n",
      "[Parallel(n_jobs=-1)]: Done 473 tasks      | elapsed:   50.7s\n",
      "[Parallel(n_jobs=-1)]: Done 504 tasks      | elapsed:   53.7s\n",
      "[Parallel(n_jobs=-1)]: Done 537 tasks      | elapsed:   57.6s\n",
      "[Parallel(n_jobs=-1)]: Done 570 tasks      | elapsed:  1.0min\n",
      "[Parallel(n_jobs=-1)]: Done 605 tasks      | elapsed:  1.1min\n",
      "[Parallel(n_jobs=-1)]: Done 640 tasks      | elapsed:  1.1min\n",
      "[Parallel(n_jobs=-1)]: Done 677 tasks      | elapsed:  1.2min\n",
      "[Parallel(n_jobs=-1)]: Done 714 tasks      | elapsed:  1.2min\n",
      "[Parallel(n_jobs=-1)]: Done 753 tasks      | elapsed:  1.3min\n",
      "[Parallel(n_jobs=-1)]: Done 792 tasks      | elapsed:  1.4min\n",
      "[Parallel(n_jobs=-1)]: Done 833 tasks      | elapsed:  1.4min\n",
      "[Parallel(n_jobs=-1)]: Done 874 tasks      | elapsed:  1.5min\n",
      "[Parallel(n_jobs=-1)]: Done 917 tasks      | elapsed:  1.6min\n",
      "[Parallel(n_jobs=-1)]: Done 960 tasks      | elapsed:  1.7min\n",
      "[Parallel(n_jobs=-1)]: Done 1005 tasks      | elapsed:  1.7min\n",
      "[Parallel(n_jobs=-1)]: Done 1050 tasks      | elapsed:  1.8min\n",
      "[Parallel(n_jobs=-1)]: Done 1097 tasks      | elapsed:  1.9min\n",
      "[Parallel(n_jobs=-1)]: Done 1144 tasks      | elapsed:  2.0min\n",
      "[Parallel(n_jobs=-1)]: Done 1193 tasks      | elapsed:  2.1min\n",
      "[Parallel(n_jobs=-1)]: Done 1242 tasks      | elapsed:  2.1min\n",
      "[Parallel(n_jobs=-1)]: Done 1293 tasks      | elapsed:  2.2min\n",
      "[Parallel(n_jobs=-1)]: Done 1344 tasks      | elapsed:  2.3min\n",
      "[Parallel(n_jobs=-1)]: Done 1397 tasks      | elapsed:  2.4min\n",
      "[Parallel(n_jobs=-1)]: Done 1450 tasks      | elapsed:  2.5min\n",
      "[Parallel(n_jobs=-1)]: Done 1505 tasks      | elapsed:  2.6min\n",
      "[Parallel(n_jobs=-1)]: Done 1560 tasks      | elapsed:  2.7min\n",
      "[Parallel(n_jobs=-1)]: Done 1617 tasks      | elapsed:  2.8min\n",
      "[Parallel(n_jobs=-1)]: Done 1674 tasks      | elapsed:  2.9min\n",
      "[Parallel(n_jobs=-1)]: Done 1733 tasks      | elapsed:  3.0min\n",
      "[Parallel(n_jobs=-1)]: Done 1792 tasks      | elapsed:  3.1min\n",
      "[Parallel(n_jobs=-1)]: Done 1853 tasks      | elapsed:  3.2min\n",
      "[Parallel(n_jobs=-1)]: Done 1914 tasks      | elapsed:  3.3min\n",
      "[Parallel(n_jobs=-1)]: Done 1977 tasks      | elapsed:  3.4min\n",
      "[Parallel(n_jobs=-1)]: Done 2040 tasks      | elapsed:  3.5min\n",
      "[Parallel(n_jobs=-1)]: Done 2105 tasks      | elapsed:  3.6min\n",
      "[Parallel(n_jobs=-1)]: Done 2170 tasks      | elapsed:  3.7min\n",
      "[Parallel(n_jobs=-1)]: Done 2237 tasks      | elapsed:  3.8min\n",
      "[Parallel(n_jobs=-1)]: Done 2304 tasks      | elapsed:  3.9min\n",
      "[Parallel(n_jobs=-1)]: Done 2373 tasks      | elapsed:  4.1min\n",
      "[Parallel(n_jobs=-1)]: Done 2442 tasks      | elapsed:  4.2min\n",
      "[Parallel(n_jobs=-1)]: Done 2513 tasks      | elapsed:  4.3min\n",
      "[Parallel(n_jobs=-1)]: Done 2584 tasks      | elapsed:  4.4min\n",
      "[Parallel(n_jobs=-1)]: Done 2657 tasks      | elapsed:  4.5min\n",
      "[Parallel(n_jobs=-1)]: Done 2730 tasks      | elapsed:  4.7min\n",
      "[Parallel(n_jobs=-1)]: Done 2805 tasks      | elapsed:  4.8min\n",
      "[Parallel(n_jobs=-1)]: Done 2880 tasks      | elapsed:  4.9min\n",
      "[Parallel(n_jobs=-1)]: Done 2957 tasks      | elapsed:  5.0min\n",
      "[Parallel(n_jobs=-1)]: Done 3034 tasks      | elapsed:  5.2min\n",
      "[Parallel(n_jobs=-1)]: Done 3113 tasks      | elapsed:  5.3min\n",
      "[Parallel(n_jobs=-1)]: Done 3192 tasks      | elapsed:  5.5min\n",
      "[Parallel(n_jobs=-1)]: Done 3273 tasks      | elapsed:  5.6min\n",
      "[Parallel(n_jobs=-1)]: Done 3354 tasks      | elapsed:  5.7min\n",
      "[Parallel(n_jobs=-1)]: Done 3437 tasks      | elapsed:  5.9min\n",
      "[Parallel(n_jobs=-1)]: Done 3520 tasks      | elapsed:  6.0min\n",
      "[Parallel(n_jobs=-1)]: Done 3605 tasks      | elapsed:  6.1min\n",
      "[Parallel(n_jobs=-1)]: Done 3690 tasks      | elapsed:  6.3min\n",
      "[Parallel(n_jobs=-1)]: Done 3777 tasks      | elapsed:  6.5min\n",
      "[Parallel(n_jobs=-1)]: Done 3864 tasks      | elapsed:  6.6min\n",
      "[Parallel(n_jobs=-1)]: Done 3953 tasks      | elapsed:  6.8min\n",
      "[Parallel(n_jobs=-1)]: Done 4042 tasks      | elapsed:  6.9min\n",
      "[Parallel(n_jobs=-1)]: Done 4133 tasks      | elapsed:  7.0min\n",
      "[Parallel(n_jobs=-1)]: Done 4224 tasks      | elapsed:  7.2min\n",
      "[Parallel(n_jobs=-1)]: Done 4317 tasks      | elapsed:  7.4min\n",
      "[Parallel(n_jobs=-1)]: Done 4410 tasks      | elapsed:  7.5min\n",
      "[Parallel(n_jobs=-1)]: Done 4505 tasks      | elapsed:  7.7min\n",
      "[Parallel(n_jobs=-1)]: Done 4600 tasks      | elapsed:  7.8min\n",
      "[Parallel(n_jobs=-1)]: Done 4697 tasks      | elapsed:  8.0min\n",
      "[Parallel(n_jobs=-1)]: Done 4794 tasks      | elapsed:  8.2min\n",
      "[Parallel(n_jobs=-1)]: Done 4893 tasks      | elapsed:  8.3min\n",
      "[Parallel(n_jobs=-1)]: Done 4992 tasks      | elapsed:  8.5min\n",
      "[Parallel(n_jobs=-1)]: Done 5093 tasks      | elapsed:  8.7min\n",
      "[Parallel(n_jobs=-1)]: Done 5194 tasks      | elapsed:  8.9min\n",
      "[Parallel(n_jobs=-1)]: Done 5297 tasks      | elapsed:  9.0min\n",
      "[Parallel(n_jobs=-1)]: Done 5400 tasks      | elapsed:  9.2min\n",
      "[Parallel(n_jobs=-1)]: Done 5505 tasks      | elapsed:  9.4min\n",
      "[Parallel(n_jobs=-1)]: Done 5610 tasks      | elapsed:  9.6min\n",
      "[Parallel(n_jobs=-1)]: Done 5717 tasks      | elapsed:  9.7min\n",
      "[Parallel(n_jobs=-1)]: Done 5824 tasks      | elapsed:  9.9min\n",
      "[Parallel(n_jobs=-1)]: Done 5933 tasks      | elapsed: 10.1min\n",
      "[Parallel(n_jobs=-1)]: Done 6042 tasks      | elapsed: 10.3min\n",
      "[Parallel(n_jobs=-1)]: Done 6153 tasks      | elapsed: 10.5min\n",
      "[Parallel(n_jobs=-1)]: Done 6264 tasks      | elapsed: 10.7min\n",
      "[Parallel(n_jobs=-1)]: Done 6377 tasks      | elapsed: 10.8min\n",
      "[Parallel(n_jobs=-1)]: Done 6490 tasks      | elapsed: 11.0min\n",
      "[Parallel(n_jobs=-1)]: Done 6605 tasks      | elapsed: 11.2min\n",
      "[Parallel(n_jobs=-1)]: Done 6720 tasks      | elapsed: 11.4min\n",
      "[Parallel(n_jobs=-1)]: Done 6837 tasks      | elapsed: 11.6min\n",
      "[Parallel(n_jobs=-1)]: Done 6954 tasks      | elapsed: 11.8min\n",
      "[Parallel(n_jobs=-1)]: Done 7073 tasks      | elapsed: 12.0min\n",
      "[Parallel(n_jobs=-1)]: Done 7192 tasks      | elapsed: 12.2min\n",
      "[Parallel(n_jobs=-1)]: Done 7313 tasks      | elapsed: 12.4min\n",
      "[Parallel(n_jobs=-1)]: Done 7434 tasks      | elapsed: 12.6min\n",
      "[Parallel(n_jobs=-1)]: Done 7557 tasks      | elapsed: 12.8min\n",
      "[Parallel(n_jobs=-1)]: Done 7680 tasks      | elapsed: 13.0min\n",
      "[Parallel(n_jobs=-1)]: Done 7805 tasks      | elapsed: 13.3min\n",
      "[Parallel(n_jobs=-1)]: Done 7930 tasks      | elapsed: 13.4min\n",
      "[Parallel(n_jobs=-1)]: Done 8057 tasks      | elapsed: 13.7min\n",
      "[Parallel(n_jobs=-1)]: Done 8184 tasks      | elapsed: 13.9min\n",
      "[Parallel(n_jobs=-1)]: Done 8313 tasks      | elapsed: 14.1min\n",
      "[Parallel(n_jobs=-1)]: Done 8442 tasks      | elapsed: 14.3min\n",
      "[Parallel(n_jobs=-1)]: Done 8573 tasks      | elapsed: 14.5min\n",
      "[Parallel(n_jobs=-1)]: Done 8704 tasks      | elapsed: 14.8min\n",
      "[Parallel(n_jobs=-1)]: Done 8837 tasks      | elapsed: 15.0min\n",
      "[Parallel(n_jobs=-1)]: Done 8970 tasks      | elapsed: 15.2min\n"
     ]
    },
    {
     "name": "stderr",
     "output_type": "stream",
     "text": [
      "[Parallel(n_jobs=-1)]: Done 9105 tasks      | elapsed: 15.4min\n",
      "[Parallel(n_jobs=-1)]: Done 9240 tasks      | elapsed: 15.7min\n",
      "[Parallel(n_jobs=-1)]: Done 9377 tasks      | elapsed: 15.9min\n",
      "[Parallel(n_jobs=-1)]: Done 9514 tasks      | elapsed: 16.2min\n",
      "[Parallel(n_jobs=-1)]: Done 9653 tasks      | elapsed: 16.4min\n",
      "[Parallel(n_jobs=-1)]: Done 9792 tasks      | elapsed: 16.6min\n",
      "[Parallel(n_jobs=-1)]: Done 9933 tasks      | elapsed: 16.9min\n",
      "[Parallel(n_jobs=-1)]: Done 10074 tasks      | elapsed: 17.1min\n",
      "[Parallel(n_jobs=-1)]: Done 10217 tasks      | elapsed: 17.3min\n",
      "[Parallel(n_jobs=-1)]: Done 10360 tasks      | elapsed: 17.6min\n",
      "[Parallel(n_jobs=-1)]: Done 10505 tasks      | elapsed: 17.8min\n",
      "[Parallel(n_jobs=-1)]: Done 10650 tasks      | elapsed: 18.1min\n",
      "[Parallel(n_jobs=-1)]: Done 10797 tasks      | elapsed: 18.3min\n",
      "[Parallel(n_jobs=-1)]: Done 10944 tasks      | elapsed: 18.6min\n",
      "[Parallel(n_jobs=-1)]: Done 11093 tasks      | elapsed: 18.8min\n",
      "[Parallel(n_jobs=-1)]: Done 11242 tasks      | elapsed: 19.1min\n",
      "[Parallel(n_jobs=-1)]: Done 11393 tasks      | elapsed: 19.3min\n",
      "[Parallel(n_jobs=-1)]: Done 11544 tasks      | elapsed: 19.6min\n",
      "[Parallel(n_jobs=-1)]: Done 11697 tasks      | elapsed: 19.9min\n",
      "[Parallel(n_jobs=-1)]: Done 11850 tasks      | elapsed: 20.1min\n",
      "[Parallel(n_jobs=-1)]: Done 12005 tasks      | elapsed: 20.4min\n",
      "[Parallel(n_jobs=-1)]: Done 12160 tasks      | elapsed: 20.6min\n",
      "[Parallel(n_jobs=-1)]: Done 12317 tasks      | elapsed: 20.9min\n",
      "[Parallel(n_jobs=-1)]: Done 12474 tasks      | elapsed: 21.1min\n",
      "[Parallel(n_jobs=-1)]: Done 12633 tasks      | elapsed: 21.4min\n",
      "[Parallel(n_jobs=-1)]: Done 12792 tasks      | elapsed: 21.7min\n",
      "[Parallel(n_jobs=-1)]: Done 12953 tasks      | elapsed: 22.0min\n",
      "[Parallel(n_jobs=-1)]: Done 13114 tasks      | elapsed: 22.3min\n",
      "[Parallel(n_jobs=-1)]: Done 13277 tasks      | elapsed: 22.5min\n",
      "[Parallel(n_jobs=-1)]: Done 13440 tasks      | elapsed: 22.8min\n",
      "[Parallel(n_jobs=-1)]: Done 13605 tasks      | elapsed: 23.1min\n",
      "[Parallel(n_jobs=-1)]: Done 13770 tasks      | elapsed: 23.4min\n",
      "[Parallel(n_jobs=-1)]: Done 13937 tasks      | elapsed: 23.7min\n",
      "[Parallel(n_jobs=-1)]: Done 14104 tasks      | elapsed: 24.0min\n",
      "[Parallel(n_jobs=-1)]: Done 14273 tasks      | elapsed: 24.3min\n",
      "[Parallel(n_jobs=-1)]: Done 14442 tasks      | elapsed: 24.6min\n",
      "[Parallel(n_jobs=-1)]: Done 14613 tasks      | elapsed: 24.9min\n",
      "[Parallel(n_jobs=-1)]: Done 14784 tasks      | elapsed: 25.2min\n",
      "[Parallel(n_jobs=-1)]: Done 14957 tasks      | elapsed: 25.4min\n",
      "[Parallel(n_jobs=-1)]: Done 15130 tasks      | elapsed: 25.7min\n",
      "[Parallel(n_jobs=-1)]: Done 15305 tasks      | elapsed: 26.0min\n",
      "[Parallel(n_jobs=-1)]: Done 15480 tasks      | elapsed: 26.3min\n",
      "[Parallel(n_jobs=-1)]: Done 15657 tasks      | elapsed: 26.7min\n",
      "[Parallel(n_jobs=-1)]: Done 15834 tasks      | elapsed: 26.9min\n",
      "[Parallel(n_jobs=-1)]: Done 16013 tasks      | elapsed: 27.2min\n",
      "[Parallel(n_jobs=-1)]: Done 16192 tasks      | elapsed: 27.6min\n",
      "[Parallel(n_jobs=-1)]: Done 16373 tasks      | elapsed: 27.9min\n",
      "[Parallel(n_jobs=-1)]: Done 16554 tasks      | elapsed: 28.1min\n",
      "[Parallel(n_jobs=-1)]: Done 16737 tasks      | elapsed: 28.5min\n",
      "[Parallel(n_jobs=-1)]: Done 16920 tasks      | elapsed: 28.8min\n",
      "[Parallel(n_jobs=-1)]: Done 17105 tasks      | elapsed: 29.1min\n",
      "[Parallel(n_jobs=-1)]: Done 17290 tasks      | elapsed: 29.4min\n",
      "[Parallel(n_jobs=-1)]: Done 17477 tasks      | elapsed: 29.7min\n",
      "[Parallel(n_jobs=-1)]: Done 17664 tasks      | elapsed: 30.1min\n",
      "[Parallel(n_jobs=-1)]: Done 17853 tasks      | elapsed: 30.4min\n",
      "[Parallel(n_jobs=-1)]: Done 18042 tasks      | elapsed: 30.7min\n",
      "[Parallel(n_jobs=-1)]: Done 18233 tasks      | elapsed: 31.1min\n",
      "[Parallel(n_jobs=-1)]: Done 18424 tasks      | elapsed: 31.4min\n",
      "[Parallel(n_jobs=-1)]: Done 18617 tasks      | elapsed: 31.7min\n",
      "[Parallel(n_jobs=-1)]: Done 18810 tasks      | elapsed: 32.1min\n",
      "[Parallel(n_jobs=-1)]: Done 19005 tasks      | elapsed: 32.4min\n",
      "[Parallel(n_jobs=-1)]: Done 19200 tasks      | elapsed: 32.8min\n",
      "[Parallel(n_jobs=-1)]: Done 19397 tasks      | elapsed: 33.1min\n",
      "[Parallel(n_jobs=-1)]: Done 19594 tasks      | elapsed: 33.5min\n",
      "[Parallel(n_jobs=-1)]: Done 19793 tasks      | elapsed: 33.8min\n",
      "[Parallel(n_jobs=-1)]: Done 19992 tasks      | elapsed: 34.2min\n",
      "[Parallel(n_jobs=-1)]: Done 20193 tasks      | elapsed: 34.5min\n",
      "[Parallel(n_jobs=-1)]: Done 20394 tasks      | elapsed: 34.9min\n",
      "[Parallel(n_jobs=-1)]: Done 20597 tasks      | elapsed: 35.3min\n",
      "[Parallel(n_jobs=-1)]: Done 20800 tasks      | elapsed: 35.6min\n",
      "[Parallel(n_jobs=-1)]: Done 21005 tasks      | elapsed: 36.0min\n",
      "[Parallel(n_jobs=-1)]: Done 21210 tasks      | elapsed: 36.4min\n",
      "[Parallel(n_jobs=-1)]: Done 21417 tasks      | elapsed: 36.7min\n",
      "[Parallel(n_jobs=-1)]: Done 21624 tasks      | elapsed: 37.1min\n",
      "[Parallel(n_jobs=-1)]: Done 21833 tasks      | elapsed: 37.5min\n",
      "[Parallel(n_jobs=-1)]: Done 22042 tasks      | elapsed: 37.9min\n",
      "[Parallel(n_jobs=-1)]: Done 22253 tasks      | elapsed: 38.2min\n",
      "[Parallel(n_jobs=-1)]: Done 22464 tasks      | elapsed: 38.6min\n",
      "[Parallel(n_jobs=-1)]: Done 22677 tasks      | elapsed: 39.0min\n",
      "[Parallel(n_jobs=-1)]: Done 22890 tasks      | elapsed: 39.4min\n",
      "[Parallel(n_jobs=-1)]: Done 23105 tasks      | elapsed: 39.8min\n",
      "[Parallel(n_jobs=-1)]: Done 23320 tasks      | elapsed: 40.2min\n",
      "[Parallel(n_jobs=-1)]: Done 23537 tasks      | elapsed: 40.5min\n",
      "[Parallel(n_jobs=-1)]: Done 23754 tasks      | elapsed: 40.9min\n",
      "[Parallel(n_jobs=-1)]: Done 23973 tasks      | elapsed: 41.3min\n",
      "[Parallel(n_jobs=-1)]: Done 24192 tasks      | elapsed: 41.7min\n",
      "[Parallel(n_jobs=-1)]: Done 24413 tasks      | elapsed: 42.1min\n",
      "[Parallel(n_jobs=-1)]: Done 24634 tasks      | elapsed: 42.5min\n",
      "[Parallel(n_jobs=-1)]: Done 24857 tasks      | elapsed: 42.9min\n",
      "[Parallel(n_jobs=-1)]: Done 25080 tasks      | elapsed: 43.3min\n",
      "[Parallel(n_jobs=-1)]: Done 25305 tasks      | elapsed: 43.7min\n",
      "[Parallel(n_jobs=-1)]: Done 25530 tasks      | elapsed: 44.1min\n",
      "[Parallel(n_jobs=-1)]: Done 25757 tasks      | elapsed: 44.5min\n",
      "[Parallel(n_jobs=-1)]: Done 25984 tasks      | elapsed: 44.9min\n",
      "[Parallel(n_jobs=-1)]: Done 26213 tasks      | elapsed: 45.3min\n",
      "[Parallel(n_jobs=-1)]: Done 26442 tasks      | elapsed: 45.7min\n",
      "[Parallel(n_jobs=-1)]: Done 26673 tasks      | elapsed: 46.1min\n",
      "[Parallel(n_jobs=-1)]: Done 26904 tasks      | elapsed: 46.6min\n",
      "[Parallel(n_jobs=-1)]: Done 27137 tasks      | elapsed: 47.0min\n",
      "[Parallel(n_jobs=-1)]: Done 27370 tasks      | elapsed: 47.4min\n",
      "[Parallel(n_jobs=-1)]: Done 27605 tasks      | elapsed: 47.8min\n",
      "[Parallel(n_jobs=-1)]: Done 27840 tasks      | elapsed: 48.2min\n",
      "[Parallel(n_jobs=-1)]: Done 28077 tasks      | elapsed: 48.6min\n",
      "[Parallel(n_jobs=-1)]: Done 28314 tasks      | elapsed: 49.0min\n",
      "[Parallel(n_jobs=-1)]: Done 28553 tasks      | elapsed: 49.5min\n",
      "[Parallel(n_jobs=-1)]: Done 28792 tasks      | elapsed: 49.8min\n",
      "[Parallel(n_jobs=-1)]: Done 29033 tasks      | elapsed: 50.3min\n",
      "[Parallel(n_jobs=-1)]: Done 29274 tasks      | elapsed: 50.7min\n",
      "[Parallel(n_jobs=-1)]: Done 29517 tasks      | elapsed: 51.1min\n",
      "[Parallel(n_jobs=-1)]: Done 29760 tasks      | elapsed: 51.6min\n",
      "[Parallel(n_jobs=-1)]: Done 30005 tasks      | elapsed: 52.0min\n",
      "[Parallel(n_jobs=-1)]: Done 30250 tasks      | elapsed: 52.4min\n",
      "[Parallel(n_jobs=-1)]: Done 30497 tasks      | elapsed: 52.8min\n",
      "[Parallel(n_jobs=-1)]: Done 30744 tasks      | elapsed: 53.2min\n",
      "[Parallel(n_jobs=-1)]: Done 30993 tasks      | elapsed: 53.7min\n",
      "[Parallel(n_jobs=-1)]: Done 31242 tasks      | elapsed: 54.1min\n",
      "[Parallel(n_jobs=-1)]: Done 31493 tasks      | elapsed: 54.5min\n",
      "[Parallel(n_jobs=-1)]: Done 31744 tasks      | elapsed: 55.0min\n",
      "[Parallel(n_jobs=-1)]: Done 31997 tasks      | elapsed: 55.4min\n",
      "[Parallel(n_jobs=-1)]: Done 32250 tasks      | elapsed: 55.8min\n",
      "[Parallel(n_jobs=-1)]: Done 32505 tasks      | elapsed: 56.3min\n",
      "[Parallel(n_jobs=-1)]: Done 32760 tasks      | elapsed: 56.7min\n",
      "[Parallel(n_jobs=-1)]: Done 33017 tasks      | elapsed: 57.2min\n",
      "[Parallel(n_jobs=-1)]: Done 33274 tasks      | elapsed: 57.6min\n",
      "[Parallel(n_jobs=-1)]: Done 33533 tasks      | elapsed: 58.1min\n",
      "[Parallel(n_jobs=-1)]: Done 33792 tasks      | elapsed: 58.5min\n",
      "[Parallel(n_jobs=-1)]: Done 34053 tasks      | elapsed: 59.0min\n",
      "[Parallel(n_jobs=-1)]: Done 34314 tasks      | elapsed: 59.4min\n",
      "[Parallel(n_jobs=-1)]: Done 34560 out of 34560 | elapsed: 59.8min finished\n"
     ]
    },
    {
     "name": "stdout",
     "output_type": "stream",
     "text": [
      "{'bootstrap': False, 'max_depth': 10, 'max_features': 'auto', 'min_samples_leaf': 2, 'min_samples_split': 10, 'n_estimators': 50}\n"
     ]
    }
   ],
   "source": [
    "from sklearn.model_selection import GridSearchCV\n",
    "\n",
    "# Define the parameter to test\n",
    "n_estimators = [50, 100, 150, 300, 500, 1000]\n",
    "max_features = ['auto', 'sqrt']\n",
    "max_depth = [int(x) for x in np.linspace(10, 110, num = 11)]\n",
    "max_depth.append(None)\n",
    "min_samples_split = [2, 5, 10, 20]\n",
    "min_samples_leaf = [2, 4, 6, 8, 10, 20]\n",
    "bootstrap = [True, False]\n",
    "\n",
    "param_grid = {'n_estimators': n_estimators,\n",
    "               'max_features': max_features,\n",
    "               'max_depth': max_depth,\n",
    "               'min_samples_split': min_samples_split,\n",
    "               'min_samples_leaf': min_samples_leaf,\n",
    "               'bootstrap': bootstrap}\n",
    "\n",
    "cv = StratifiedShuffleSplit(n_splits=5, test_size=0.2, random_state=42)\n",
    "\n",
    "# Prevent the notebook from doing the very long hypertuning (~60 min with all cores)\n",
    "go_fit=False\n",
    "\n",
    "if go_fit:\n",
    "    Tuning = GridSearchCV(RFR_added_features, param_grid, cv=cv, n_jobs=-1, verbose=10)\n",
    "    Tuning.fit(X,Y)\n",
    "    Best_param = Tuning.best_params_\n",
    "    print(Best_param)"
   ]
  },
  {
   "cell_type": "code",
   "execution_count": 51,
   "metadata": {},
   "outputs": [
    {
     "name": "stdout",
     "output_type": "stream",
     "text": [
      "[0.81005587 0.81005587 0.7877095  0.8547486  0.7877095 ]\n",
      "0.8100558659217878\n"
     ]
    }
   ],
   "source": [
    "RFR_tuned = RandomForestClassifier(bootstrap=False, \n",
    "                                   max_depth=10, \n",
    "                                   max_features='auto',\n",
    "                                   min_samples_leaf= 2,\n",
    "                                   min_samples_split= 10,\n",
    "                                   n_estimators= 50\n",
    "                                  )\n",
    "\n",
    "cv = StratifiedShuffleSplit(n_splits=5, test_size=0.2, random_state=42)\n",
    "K_scores = cross_val_score(RFR_tuned, X, Y, cv=cv)\n",
    "print(K_scores)\n",
    "print(np.mean(K_scores))"
   ]
  },
  {
   "cell_type": "code",
   "execution_count": 53,
   "metadata": {},
   "outputs": [],
   "source": [
    "RFR_tuned.fit(X,Y)\n",
    "RFR_pred_tuned = RFR_tuned.predict(X_valid)\n",
    "\n",
    "submission = pd.DataFrame({ \"PassengerId\": Test[\"PassengerId\"], \"Survived\": RFR_pred_tuned})\n",
    "submission.to_csv('submission_tuned.csv', index=False)"
   ]
  },
  {
   "cell_type": "markdown",
   "metadata": {},
   "source": [
    "# Feedback from competition \n",
    "\n",
    "Score of 0.76555. Slightly better than first attempt. I don't think we'll get much better results with random forest anymore."
   ]
  },
  {
   "cell_type": "code",
   "execution_count": null,
   "metadata": {},
   "outputs": [],
   "source": []
  }
 ],
 "metadata": {
  "kernelspec": {
   "display_name": "Python 3",
   "language": "python",
   "name": "python3"
  },
  "language_info": {
   "codemirror_mode": {
    "name": "ipython",
    "version": 3
   },
   "file_extension": ".py",
   "mimetype": "text/x-python",
   "name": "python",
   "nbconvert_exporter": "python",
   "pygments_lexer": "ipython3",
   "version": "3.7.4"
  }
 },
 "nbformat": 4,
 "nbformat_minor": 2
}
